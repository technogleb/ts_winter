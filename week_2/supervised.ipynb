{
 "cells": [
  {
   "cell_type": "code",
   "execution_count": 1,
   "id": "square-logistics",
   "metadata": {},
   "outputs": [],
   "source": [
    "%load_ext autoreload\n",
    "%autoreload 2"
   ]
  },
  {
   "cell_type": "code",
   "execution_count": 2,
   "id": "close-turkish",
   "metadata": {},
   "outputs": [],
   "source": [
    "import sys\n",
    "from pathlib import Path\n",
    "\n",
    "sys.path.append(str(Path().cwd().parent))"
   ]
  },
  {
   "cell_type": "code",
   "execution_count": 3,
   "id": "moved-interstate",
   "metadata": {},
   "outputs": [
    {
     "name": "stderr",
     "output_type": "stream",
     "text": [
      "/Users/g.sinyakov/ts_autumn/.env/lib/python3.8/site-packages/pandas/compat/__init__.py:124: UserWarning: Could not import the lzma module. Your installed Python is incomplete. Attempting to use lzma compression will result in a RuntimeError.\n",
      "  warnings.warn(msg)\n"
     ]
    }
   ],
   "source": [
    "import load_dataset\n",
    "from plotting import plot_ts"
   ]
  },
  {
   "cell_type": "markdown",
   "id": "advised-basketball",
   "metadata": {},
   "source": [
    "### Возьмем из датасета ряд с минимальными температурами."
   ]
  },
  {
   "cell_type": "code",
   "execution_count": 4,
   "id": "weekly-tokyo",
   "metadata": {},
   "outputs": [],
   "source": [
    "dataset = load_dataset.Dataset('../data/dataset/')"
   ]
  },
  {
   "cell_type": "code",
   "execution_count": 5,
   "id": "frozen-baseball",
   "metadata": {},
   "outputs": [],
   "source": [
    "ts = dataset['daily-min-temperatures.csv']"
   ]
  },
  {
   "cell_type": "code",
   "execution_count": 6,
   "id": "exclusive-connection",
   "metadata": {},
   "outputs": [
    {
     "data": {
      "text/plain": [
       "1981-01-01\n",
       "1981-01-02    17.9\n",
       "1981-01-03    18.8\n",
       "1981-01-04    14.6\n",
       "1981-01-05    15.8\n",
       "1981-01-06    15.8\n",
       "Name: 20.7, dtype: float64"
      ]
     },
     "execution_count": 6,
     "metadata": {},
     "output_type": "execute_result"
    }
   ],
   "source": [
    "ts.head()"
   ]
  },
  {
   "cell_type": "code",
   "execution_count": 7,
   "id": "checked-scanner",
   "metadata": {},
   "outputs": [
    {
     "data": {
      "text/plain": [
       "1981-01-01\n",
       "1990-12-27    14.0\n",
       "1990-12-28    13.6\n",
       "1990-12-29    13.5\n",
       "1990-12-30    15.7\n",
       "1990-12-31    13.0\n",
       "Name: 20.7, dtype: float64"
      ]
     },
     "execution_count": 7,
     "metadata": {},
     "output_type": "execute_result"
    }
   ],
   "source": [
    "ts.tail()"
   ]
  },
  {
   "cell_type": "code",
   "execution_count": 8,
   "id": "english-saver",
   "metadata": {},
   "outputs": [
    {
     "data": {
      "text/html": [
       "\n",
       "    <div class=\"bk-root\">\n",
       "        <a href=\"https://bokeh.org\" target=\"_blank\" class=\"bk-logo bk-logo-small bk-logo-notebook\"></a>\n",
       "        <span id=\"1002\">Loading BokehJS ...</span>\n",
       "    </div>"
      ]
     },
     "metadata": {},
     "output_type": "display_data"
    },
    {
     "data": {
      "application/javascript": [
       "\n",
       "(function(root) {\n",
       "  function now() {\n",
       "    return new Date();\n",
       "  }\n",
       "\n",
       "  var force = true;\n",
       "\n",
       "  if (typeof root._bokeh_onload_callbacks === \"undefined\" || force === true) {\n",
       "    root._bokeh_onload_callbacks = [];\n",
       "    root._bokeh_is_loading = undefined;\n",
       "  }\n",
       "\n",
       "  var JS_MIME_TYPE = 'application/javascript';\n",
       "  var HTML_MIME_TYPE = 'text/html';\n",
       "  var EXEC_MIME_TYPE = 'application/vnd.bokehjs_exec.v0+json';\n",
       "  var CLASS_NAME = 'output_bokeh rendered_html';\n",
       "\n",
       "  /**\n",
       "   * Render data to the DOM node\n",
       "   */\n",
       "  function render(props, node) {\n",
       "    var script = document.createElement(\"script\");\n",
       "    node.appendChild(script);\n",
       "  }\n",
       "\n",
       "  /**\n",
       "   * Handle when an output is cleared or removed\n",
       "   */\n",
       "  function handleClearOutput(event, handle) {\n",
       "    var cell = handle.cell;\n",
       "\n",
       "    var id = cell.output_area._bokeh_element_id;\n",
       "    var server_id = cell.output_area._bokeh_server_id;\n",
       "    // Clean up Bokeh references\n",
       "    if (id != null && id in Bokeh.index) {\n",
       "      Bokeh.index[id].model.document.clear();\n",
       "      delete Bokeh.index[id];\n",
       "    }\n",
       "\n",
       "    if (server_id !== undefined) {\n",
       "      // Clean up Bokeh references\n",
       "      var cmd = \"from bokeh.io.state import curstate; print(curstate().uuid_to_server['\" + server_id + \"'].get_sessions()[0].document.roots[0]._id)\";\n",
       "      cell.notebook.kernel.execute(cmd, {\n",
       "        iopub: {\n",
       "          output: function(msg) {\n",
       "            var id = msg.content.text.trim();\n",
       "            if (id in Bokeh.index) {\n",
       "              Bokeh.index[id].model.document.clear();\n",
       "              delete Bokeh.index[id];\n",
       "            }\n",
       "          }\n",
       "        }\n",
       "      });\n",
       "      // Destroy server and session\n",
       "      var cmd = \"import bokeh.io.notebook as ion; ion.destroy_server('\" + server_id + \"')\";\n",
       "      cell.notebook.kernel.execute(cmd);\n",
       "    }\n",
       "  }\n",
       "\n",
       "  /**\n",
       "   * Handle when a new output is added\n",
       "   */\n",
       "  function handleAddOutput(event, handle) {\n",
       "    var output_area = handle.output_area;\n",
       "    var output = handle.output;\n",
       "\n",
       "    // limit handleAddOutput to display_data with EXEC_MIME_TYPE content only\n",
       "    if ((output.output_type != \"display_data\") || (!Object.prototype.hasOwnProperty.call(output.data, EXEC_MIME_TYPE))) {\n",
       "      return\n",
       "    }\n",
       "\n",
       "    var toinsert = output_area.element.find(\".\" + CLASS_NAME.split(' ')[0]);\n",
       "\n",
       "    if (output.metadata[EXEC_MIME_TYPE][\"id\"] !== undefined) {\n",
       "      toinsert[toinsert.length - 1].firstChild.textContent = output.data[JS_MIME_TYPE];\n",
       "      // store reference to embed id on output_area\n",
       "      output_area._bokeh_element_id = output.metadata[EXEC_MIME_TYPE][\"id\"];\n",
       "    }\n",
       "    if (output.metadata[EXEC_MIME_TYPE][\"server_id\"] !== undefined) {\n",
       "      var bk_div = document.createElement(\"div\");\n",
       "      bk_div.innerHTML = output.data[HTML_MIME_TYPE];\n",
       "      var script_attrs = bk_div.children[0].attributes;\n",
       "      for (var i = 0; i < script_attrs.length; i++) {\n",
       "        toinsert[toinsert.length - 1].firstChild.setAttribute(script_attrs[i].name, script_attrs[i].value);\n",
       "        toinsert[toinsert.length - 1].firstChild.textContent = bk_div.children[0].textContent\n",
       "      }\n",
       "      // store reference to server id on output_area\n",
       "      output_area._bokeh_server_id = output.metadata[EXEC_MIME_TYPE][\"server_id\"];\n",
       "    }\n",
       "  }\n",
       "\n",
       "  function register_renderer(events, OutputArea) {\n",
       "\n",
       "    function append_mime(data, metadata, element) {\n",
       "      // create a DOM node to render to\n",
       "      var toinsert = this.create_output_subarea(\n",
       "        metadata,\n",
       "        CLASS_NAME,\n",
       "        EXEC_MIME_TYPE\n",
       "      );\n",
       "      this.keyboard_manager.register_events(toinsert);\n",
       "      // Render to node\n",
       "      var props = {data: data, metadata: metadata[EXEC_MIME_TYPE]};\n",
       "      render(props, toinsert[toinsert.length - 1]);\n",
       "      element.append(toinsert);\n",
       "      return toinsert\n",
       "    }\n",
       "\n",
       "    /* Handle when an output is cleared or removed */\n",
       "    events.on('clear_output.CodeCell', handleClearOutput);\n",
       "    events.on('delete.Cell', handleClearOutput);\n",
       "\n",
       "    /* Handle when a new output is added */\n",
       "    events.on('output_added.OutputArea', handleAddOutput);\n",
       "\n",
       "    /**\n",
       "     * Register the mime type and append_mime function with output_area\n",
       "     */\n",
       "    OutputArea.prototype.register_mime_type(EXEC_MIME_TYPE, append_mime, {\n",
       "      /* Is output safe? */\n",
       "      safe: true,\n",
       "      /* Index of renderer in `output_area.display_order` */\n",
       "      index: 0\n",
       "    });\n",
       "  }\n",
       "\n",
       "  // register the mime type if in Jupyter Notebook environment and previously unregistered\n",
       "  if (root.Jupyter !== undefined) {\n",
       "    var events = require('base/js/events');\n",
       "    var OutputArea = require('notebook/js/outputarea').OutputArea;\n",
       "\n",
       "    if (OutputArea.prototype.mime_types().indexOf(EXEC_MIME_TYPE) == -1) {\n",
       "      register_renderer(events, OutputArea);\n",
       "    }\n",
       "  }\n",
       "\n",
       "  \n",
       "  if (typeof (root._bokeh_timeout) === \"undefined\" || force === true) {\n",
       "    root._bokeh_timeout = Date.now() + 5000;\n",
       "    root._bokeh_failed_load = false;\n",
       "  }\n",
       "\n",
       "  var NB_LOAD_WARNING = {'data': {'text/html':\n",
       "     \"<div style='background-color: #fdd'>\\n\"+\n",
       "     \"<p>\\n\"+\n",
       "     \"BokehJS does not appear to have successfully loaded. If loading BokehJS from CDN, this \\n\"+\n",
       "     \"may be due to a slow or bad network connection. Possible fixes:\\n\"+\n",
       "     \"</p>\\n\"+\n",
       "     \"<ul>\\n\"+\n",
       "     \"<li>re-rerun `output_notebook()` to attempt to load from CDN again, or</li>\\n\"+\n",
       "     \"<li>use INLINE resources instead, as so:</li>\\n\"+\n",
       "     \"</ul>\\n\"+\n",
       "     \"<code>\\n\"+\n",
       "     \"from bokeh.resources import INLINE\\n\"+\n",
       "     \"output_notebook(resources=INLINE)\\n\"+\n",
       "     \"</code>\\n\"+\n",
       "     \"</div>\"}};\n",
       "\n",
       "  function display_loaded() {\n",
       "    var el = document.getElementById(\"1002\");\n",
       "    if (el != null) {\n",
       "      el.textContent = \"BokehJS is loading...\";\n",
       "    }\n",
       "    if (root.Bokeh !== undefined) {\n",
       "      if (el != null) {\n",
       "        el.textContent = \"BokehJS \" + root.Bokeh.version + \" successfully loaded.\";\n",
       "      }\n",
       "    } else if (Date.now() < root._bokeh_timeout) {\n",
       "      setTimeout(display_loaded, 100)\n",
       "    }\n",
       "  }\n",
       "\n",
       "\n",
       "  function run_callbacks() {\n",
       "    try {\n",
       "      root._bokeh_onload_callbacks.forEach(function(callback) {\n",
       "        if (callback != null)\n",
       "          callback();\n",
       "      });\n",
       "    } finally {\n",
       "      delete root._bokeh_onload_callbacks\n",
       "    }\n",
       "    console.debug(\"Bokeh: all callbacks have finished\");\n",
       "  }\n",
       "\n",
       "  function load_libs(css_urls, js_urls, callback) {\n",
       "    if (css_urls == null) css_urls = [];\n",
       "    if (js_urls == null) js_urls = [];\n",
       "\n",
       "    root._bokeh_onload_callbacks.push(callback);\n",
       "    if (root._bokeh_is_loading > 0) {\n",
       "      console.debug(\"Bokeh: BokehJS is being loaded, scheduling callback at\", now());\n",
       "      return null;\n",
       "    }\n",
       "    if (js_urls == null || js_urls.length === 0) {\n",
       "      run_callbacks();\n",
       "      return null;\n",
       "    }\n",
       "    console.debug(\"Bokeh: BokehJS not loaded, scheduling load and callback at\", now());\n",
       "    root._bokeh_is_loading = css_urls.length + js_urls.length;\n",
       "\n",
       "    function on_load() {\n",
       "      root._bokeh_is_loading--;\n",
       "      if (root._bokeh_is_loading === 0) {\n",
       "        console.debug(\"Bokeh: all BokehJS libraries/stylesheets loaded\");\n",
       "        run_callbacks()\n",
       "      }\n",
       "    }\n",
       "\n",
       "    function on_error(url) {\n",
       "      console.error(\"failed to load \" + url);\n",
       "    }\n",
       "\n",
       "    for (let i = 0; i < css_urls.length; i++) {\n",
       "      const url = css_urls[i];\n",
       "      const element = document.createElement(\"link\");\n",
       "      element.onload = on_load;\n",
       "      element.onerror = on_error.bind(null, url);\n",
       "      element.rel = \"stylesheet\";\n",
       "      element.type = \"text/css\";\n",
       "      element.href = url;\n",
       "      console.debug(\"Bokeh: injecting link tag for BokehJS stylesheet: \", url);\n",
       "      document.body.appendChild(element);\n",
       "    }\n",
       "\n",
       "    const hashes = {\"https://cdn.bokeh.org/bokeh/release/bokeh-2.3.3.min.js\": \"dM3QQsP+wXdHg42wTqW85BjZQdLNNIXqlPw/BgKoExPmTG7ZLML4EGqLMfqHT6ON\", \"https://cdn.bokeh.org/bokeh/release/bokeh-tables-2.3.3.min.js\": \"8x57I4YuIfu8XyZfFo0XVr2WAT8EK4rh/uDe3wF7YuW2FNUSNEpJbsPaB1nJ2fz2\", \"https://cdn.bokeh.org/bokeh/release/bokeh-widgets-2.3.3.min.js\": \"3QTqdz9LyAm2i0sG5XTePsHec3UHWwVsrOL68SYRoAXsafvfAyqtQ+h440+qIBhS\"};\n",
       "\n",
       "    for (let i = 0; i < js_urls.length; i++) {\n",
       "      const url = js_urls[i];\n",
       "      const element = document.createElement('script');\n",
       "      element.onload = on_load;\n",
       "      element.onerror = on_error.bind(null, url);\n",
       "      element.async = false;\n",
       "      element.src = url;\n",
       "      if (url in hashes) {\n",
       "        element.crossOrigin = \"anonymous\";\n",
       "        element.integrity = \"sha384-\" + hashes[url];\n",
       "      }\n",
       "      console.debug(\"Bokeh: injecting script tag for BokehJS library: \", url);\n",
       "      document.head.appendChild(element);\n",
       "    }\n",
       "  };\n",
       "\n",
       "  function inject_raw_css(css) {\n",
       "    const element = document.createElement(\"style\");\n",
       "    element.appendChild(document.createTextNode(css));\n",
       "    document.body.appendChild(element);\n",
       "  }\n",
       "\n",
       "  \n",
       "  var js_urls = [\"https://cdn.bokeh.org/bokeh/release/bokeh-2.3.3.min.js\", \"https://cdn.bokeh.org/bokeh/release/bokeh-widgets-2.3.3.min.js\", \"https://cdn.bokeh.org/bokeh/release/bokeh-tables-2.3.3.min.js\"];\n",
       "  var css_urls = [];\n",
       "  \n",
       "\n",
       "  var inline_js = [\n",
       "    function(Bokeh) {\n",
       "      Bokeh.set_log_level(\"info\");\n",
       "    },\n",
       "    function(Bokeh) {\n",
       "    \n",
       "    \n",
       "    }\n",
       "  ];\n",
       "\n",
       "  function run_inline_js() {\n",
       "    \n",
       "    if (root.Bokeh !== undefined || force === true) {\n",
       "      \n",
       "    for (var i = 0; i < inline_js.length; i++) {\n",
       "      inline_js[i].call(root, root.Bokeh);\n",
       "    }\n",
       "    if (force === true) {\n",
       "        display_loaded();\n",
       "      }} else if (Date.now() < root._bokeh_timeout) {\n",
       "      setTimeout(run_inline_js, 100);\n",
       "    } else if (!root._bokeh_failed_load) {\n",
       "      console.log(\"Bokeh: BokehJS failed to load within specified timeout.\");\n",
       "      root._bokeh_failed_load = true;\n",
       "    } else if (force !== true) {\n",
       "      var cell = $(document.getElementById(\"1002\")).parents('.cell').data().cell;\n",
       "      cell.output_area.append_execute_result(NB_LOAD_WARNING)\n",
       "    }\n",
       "\n",
       "  }\n",
       "\n",
       "  if (root._bokeh_is_loading === 0) {\n",
       "    console.debug(\"Bokeh: BokehJS loaded, going straight to plotting\");\n",
       "    run_inline_js();\n",
       "  } else {\n",
       "    load_libs(css_urls, js_urls, function() {\n",
       "      console.debug(\"Bokeh: BokehJS plotting callback run at\", now());\n",
       "      run_inline_js();\n",
       "    });\n",
       "  }\n",
       "}(window));"
      ],
      "application/vnd.bokehjs_load.v0+json": "\n(function(root) {\n  function now() {\n    return new Date();\n  }\n\n  var force = true;\n\n  if (typeof root._bokeh_onload_callbacks === \"undefined\" || force === true) {\n    root._bokeh_onload_callbacks = [];\n    root._bokeh_is_loading = undefined;\n  }\n\n  \n\n  \n  if (typeof (root._bokeh_timeout) === \"undefined\" || force === true) {\n    root._bokeh_timeout = Date.now() + 5000;\n    root._bokeh_failed_load = false;\n  }\n\n  var NB_LOAD_WARNING = {'data': {'text/html':\n     \"<div style='background-color: #fdd'>\\n\"+\n     \"<p>\\n\"+\n     \"BokehJS does not appear to have successfully loaded. If loading BokehJS from CDN, this \\n\"+\n     \"may be due to a slow or bad network connection. Possible fixes:\\n\"+\n     \"</p>\\n\"+\n     \"<ul>\\n\"+\n     \"<li>re-rerun `output_notebook()` to attempt to load from CDN again, or</li>\\n\"+\n     \"<li>use INLINE resources instead, as so:</li>\\n\"+\n     \"</ul>\\n\"+\n     \"<code>\\n\"+\n     \"from bokeh.resources import INLINE\\n\"+\n     \"output_notebook(resources=INLINE)\\n\"+\n     \"</code>\\n\"+\n     \"</div>\"}};\n\n  function display_loaded() {\n    var el = document.getElementById(\"1002\");\n    if (el != null) {\n      el.textContent = \"BokehJS is loading...\";\n    }\n    if (root.Bokeh !== undefined) {\n      if (el != null) {\n        el.textContent = \"BokehJS \" + root.Bokeh.version + \" successfully loaded.\";\n      }\n    } else if (Date.now() < root._bokeh_timeout) {\n      setTimeout(display_loaded, 100)\n    }\n  }\n\n\n  function run_callbacks() {\n    try {\n      root._bokeh_onload_callbacks.forEach(function(callback) {\n        if (callback != null)\n          callback();\n      });\n    } finally {\n      delete root._bokeh_onload_callbacks\n    }\n    console.debug(\"Bokeh: all callbacks have finished\");\n  }\n\n  function load_libs(css_urls, js_urls, callback) {\n    if (css_urls == null) css_urls = [];\n    if (js_urls == null) js_urls = [];\n\n    root._bokeh_onload_callbacks.push(callback);\n    if (root._bokeh_is_loading > 0) {\n      console.debug(\"Bokeh: BokehJS is being loaded, scheduling callback at\", now());\n      return null;\n    }\n    if (js_urls == null || js_urls.length === 0) {\n      run_callbacks();\n      return null;\n    }\n    console.debug(\"Bokeh: BokehJS not loaded, scheduling load and callback at\", now());\n    root._bokeh_is_loading = css_urls.length + js_urls.length;\n\n    function on_load() {\n      root._bokeh_is_loading--;\n      if (root._bokeh_is_loading === 0) {\n        console.debug(\"Bokeh: all BokehJS libraries/stylesheets loaded\");\n        run_callbacks()\n      }\n    }\n\n    function on_error(url) {\n      console.error(\"failed to load \" + url);\n    }\n\n    for (let i = 0; i < css_urls.length; i++) {\n      const url = css_urls[i];\n      const element = document.createElement(\"link\");\n      element.onload = on_load;\n      element.onerror = on_error.bind(null, url);\n      element.rel = \"stylesheet\";\n      element.type = \"text/css\";\n      element.href = url;\n      console.debug(\"Bokeh: injecting link tag for BokehJS stylesheet: \", url);\n      document.body.appendChild(element);\n    }\n\n    const hashes = {\"https://cdn.bokeh.org/bokeh/release/bokeh-2.3.3.min.js\": \"dM3QQsP+wXdHg42wTqW85BjZQdLNNIXqlPw/BgKoExPmTG7ZLML4EGqLMfqHT6ON\", \"https://cdn.bokeh.org/bokeh/release/bokeh-tables-2.3.3.min.js\": \"8x57I4YuIfu8XyZfFo0XVr2WAT8EK4rh/uDe3wF7YuW2FNUSNEpJbsPaB1nJ2fz2\", \"https://cdn.bokeh.org/bokeh/release/bokeh-widgets-2.3.3.min.js\": \"3QTqdz9LyAm2i0sG5XTePsHec3UHWwVsrOL68SYRoAXsafvfAyqtQ+h440+qIBhS\"};\n\n    for (let i = 0; i < js_urls.length; i++) {\n      const url = js_urls[i];\n      const element = document.createElement('script');\n      element.onload = on_load;\n      element.onerror = on_error.bind(null, url);\n      element.async = false;\n      element.src = url;\n      if (url in hashes) {\n        element.crossOrigin = \"anonymous\";\n        element.integrity = \"sha384-\" + hashes[url];\n      }\n      console.debug(\"Bokeh: injecting script tag for BokehJS library: \", url);\n      document.head.appendChild(element);\n    }\n  };\n\n  function inject_raw_css(css) {\n    const element = document.createElement(\"style\");\n    element.appendChild(document.createTextNode(css));\n    document.body.appendChild(element);\n  }\n\n  \n  var js_urls = [\"https://cdn.bokeh.org/bokeh/release/bokeh-2.3.3.min.js\", \"https://cdn.bokeh.org/bokeh/release/bokeh-widgets-2.3.3.min.js\", \"https://cdn.bokeh.org/bokeh/release/bokeh-tables-2.3.3.min.js\"];\n  var css_urls = [];\n  \n\n  var inline_js = [\n    function(Bokeh) {\n      Bokeh.set_log_level(\"info\");\n    },\n    function(Bokeh) {\n    \n    \n    }\n  ];\n\n  function run_inline_js() {\n    \n    if (root.Bokeh !== undefined || force === true) {\n      \n    for (var i = 0; i < inline_js.length; i++) {\n      inline_js[i].call(root, root.Bokeh);\n    }\n    if (force === true) {\n        display_loaded();\n      }} else if (Date.now() < root._bokeh_timeout) {\n      setTimeout(run_inline_js, 100);\n    } else if (!root._bokeh_failed_load) {\n      console.log(\"Bokeh: BokehJS failed to load within specified timeout.\");\n      root._bokeh_failed_load = true;\n    } else if (force !== true) {\n      var cell = $(document.getElementById(\"1002\")).parents('.cell').data().cell;\n      cell.output_area.append_execute_result(NB_LOAD_WARNING)\n    }\n\n  }\n\n  if (root._bokeh_is_loading === 0) {\n    console.debug(\"Bokeh: BokehJS loaded, going straight to plotting\");\n    run_inline_js();\n  } else {\n    load_libs(css_urls, js_urls, function() {\n      console.debug(\"Bokeh: BokehJS plotting callback run at\", now());\n      run_inline_js();\n    });\n  }\n}(window));"
     },
     "metadata": {},
     "output_type": "display_data"
    },
    {
     "data": {
      "text/html": [
       "\n",
       "\n",
       "\n",
       "\n",
       "\n",
       "\n",
       "  <div class=\"bk-root\" id=\"4a1427f5-7675-4c56-8a62-d356d09af4d7\" data-root-id=\"1005\"></div>\n"
      ]
     },
     "metadata": {},
     "output_type": "display_data"
    },
    {
     "data": {
      "application/javascript": [
       "(function(root) {\n",
       "  function embed_document(root) {\n",
       "    \n",
       "  var docs_json = {\"6e566475-50e8-48da-8a3a-d33585815e3e\":{\"defs\":[],\"roots\":{\"references\":[{\"attributes\":{\"below\":[{\"id\":\"1016\"}],\"center\":[{\"id\":\"1019\"},{\"id\":\"1023\"}],\"left\":[{\"id\":\"1020\"}],\"renderers\":[{\"id\":\"1044\"}],\"title\":{\"id\":\"1006\"},\"toolbar\":{\"id\":\"1032\"},\"width\":900,\"x_range\":{\"id\":\"1008\"},\"x_scale\":{\"id\":\"1012\"},\"y_range\":{\"id\":\"1010\"},\"y_scale\":{\"id\":\"1014\"}},\"id\":\"1005\",\"subtype\":\"Figure\",\"type\":\"Plot\"},{\"attributes\":{},\"id\":\"1028\",\"type\":\"SaveTool\"},{\"attributes\":{\"callback\":null,\"formatters\":{\"@x\":\"datetime\"},\"mode\":\"vline\",\"tooltips\":[[\"date\",\"@x{%d-%m-%YT%H:%M:%S}\"],[\"value\",\"@y\"]]},\"id\":\"1004\",\"type\":\"HoverTool\"},{\"attributes\":{},\"id\":\"1047\",\"type\":\"AllLabels\"},{\"attributes\":{\"data\":{\"x\":{\"__ndarray__\":\"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\",\"dtype\":\"float64\",\"order\":\"little\",\"shape\":[3649]},\"y\":{\"__ndarray__\":\"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\",\"dtype\":\"float64\",\"order\":\"little\",\"shape\":[3649]}},\"selected\":{\"id\":\"1065\"},\"selection_policy\":{\"id\":\"1064\"}},\"id\":\"1041\",\"type\":\"ColumnDataSource\"},{\"attributes\":{},\"id\":\"1024\",\"type\":\"PanTool\"},{\"attributes\":{\"line_color\":\"#1f77b4\",\"line_width\":2,\"x\":{\"field\":\"x\"},\"y\":{\"field\":\"y\"}},\"id\":\"1042\",\"type\":\"Line\"},{\"attributes\":{\"line_alpha\":0.1,\"line_color\":\"#1f77b4\",\"line_width\":2,\"x\":{\"field\":\"x\"},\"y\":{\"field\":\"y\"}},\"id\":\"1043\",\"type\":\"Line\"},{\"attributes\":{},\"id\":\"1048\",\"type\":\"BasicTickFormatter\"},{\"attributes\":{},\"id\":\"1014\",\"type\":\"LinearScale\"},{\"attributes\":{\"source\":{\"id\":\"1041\"}},\"id\":\"1045\",\"type\":\"CDSView\"},{\"attributes\":{},\"id\":\"1006\",\"type\":\"Title\"},{\"attributes\":{\"axis_label\":\"time\",\"formatter\":{\"id\":\"1003\"},\"major_label_policy\":{\"id\":\"1050\"},\"ticker\":{\"id\":\"1017\"}},\"id\":\"1016\",\"type\":\"DatetimeAxis\"},{\"attributes\":{},\"id\":\"1050\",\"type\":\"AllLabels\"},{\"attributes\":{},\"id\":\"1012\",\"type\":\"LinearScale\"},{\"attributes\":{\"mantissas\":[1,2,5],\"max_interval\":500.0,\"num_minor_ticks\":0},\"id\":\"1052\",\"type\":\"AdaptiveTicker\"},{\"attributes\":{},\"id\":\"1010\",\"type\":\"DataRange1d\"},{\"attributes\":{\"base\":60,\"mantissas\":[1,2,5,10,15,20,30],\"max_interval\":1800000.0,\"min_interval\":1000.0,\"num_minor_ticks\":0},\"id\":\"1053\",\"type\":\"AdaptiveTicker\"},{\"attributes\":{\"bottom_units\":\"screen\",\"fill_alpha\":0.5,\"fill_color\":\"lightgrey\",\"left_units\":\"screen\",\"level\":\"overlay\",\"line_alpha\":1.0,\"line_color\":\"black\",\"line_dash\":[4,4],\"line_width\":2,\"right_units\":\"screen\",\"syncable\":false,\"top_units\":\"screen\"},\"id\":\"1030\",\"type\":\"BoxAnnotation\"},{\"attributes\":{\"days\":[1,2,3,4,5,6,7,8,9,10,11,12,13,14,15,16,17,18,19,20,21,22,23,24,25,26,27,28,29,30,31]},\"id\":\"1055\",\"type\":\"DaysTicker\"},{\"attributes\":{\"base\":24,\"mantissas\":[1,2,4,6,8,12],\"max_interval\":43200000.0,\"min_interval\":3600000.0,\"num_minor_ticks\":0},\"id\":\"1054\",\"type\":\"AdaptiveTicker\"},{\"attributes\":{\"months\":[0,1,2,3,4,5,6,7,8,9,10,11]},\"id\":\"1059\",\"type\":\"MonthsTicker\"},{\"attributes\":{},\"id\":\"1008\",\"type\":\"DataRange1d\"},{\"attributes\":{\"months\":[0,2,4,6,8,10]},\"id\":\"1060\",\"type\":\"MonthsTicker\"},{\"attributes\":{\"bottom_units\":\"screen\",\"fill_alpha\":0.5,\"fill_color\":\"lightgrey\",\"left_units\":\"screen\",\"level\":\"overlay\",\"line_alpha\":1.0,\"line_color\":\"black\",\"line_dash\":[4,4],\"line_width\":2,\"right_units\":\"screen\",\"syncable\":false,\"top_units\":\"screen\"},\"id\":\"1031\",\"type\":\"BoxAnnotation\"},{\"attributes\":{\"days\":[1,4,7,10,13,16,19,22,25,28]},\"id\":\"1056\",\"type\":\"DaysTicker\"},{\"attributes\":{\"days\":[1,15]},\"id\":\"1058\",\"type\":\"DaysTicker\"},{\"attributes\":{\"months\":[0,6]},\"id\":\"1062\",\"type\":\"MonthsTicker\"},{\"attributes\":{\"axis_label\":\"value\",\"formatter\":{\"id\":\"1048\"},\"major_label_policy\":{\"id\":\"1047\"},\"ticker\":{\"id\":\"1021\"}},\"id\":\"1020\",\"type\":\"LinearAxis\"},{\"attributes\":{\"days\":[1,8,15,22]},\"id\":\"1057\",\"type\":\"DaysTicker\"},{\"attributes\":{},\"id\":\"1063\",\"type\":\"YearsTicker\"},{\"attributes\":{\"num_minor_ticks\":5,\"tickers\":[{\"id\":\"1052\"},{\"id\":\"1053\"},{\"id\":\"1054\"},{\"id\":\"1055\"},{\"id\":\"1056\"},{\"id\":\"1057\"},{\"id\":\"1058\"},{\"id\":\"1059\"},{\"id\":\"1060\"},{\"id\":\"1061\"},{\"id\":\"1062\"},{\"id\":\"1063\"}]},\"id\":\"1017\",\"type\":\"DatetimeTicker\"},{\"attributes\":{\"months\":[0,4,8]},\"id\":\"1061\",\"type\":\"MonthsTicker\"},{\"attributes\":{\"axis\":{\"id\":\"1016\"},\"ticker\":null},\"id\":\"1019\",\"type\":\"Grid\"},{\"attributes\":{},\"id\":\"1025\",\"type\":\"WheelZoomTool\"},{\"attributes\":{\"data_source\":{\"id\":\"1041\"},\"glyph\":{\"id\":\"1042\"},\"hover_glyph\":null,\"muted_glyph\":null,\"nonselection_glyph\":{\"id\":\"1043\"},\"view\":{\"id\":\"1045\"}},\"id\":\"1044\",\"type\":\"GlyphRenderer\"},{\"attributes\":{\"axis\":{\"id\":\"1020\"},\"dimension\":1,\"ticker\":null},\"id\":\"1023\",\"type\":\"Grid\"},{\"attributes\":{\"days\":[\"%d %B %Y\"],\"hours\":[\"%d %B %Y\"],\"months\":[\"%d %B %Y\"],\"years\":[\"%d %B %Y\"]},\"id\":\"1003\",\"type\":\"DatetimeTickFormatter\"},{\"attributes\":{},\"id\":\"1064\",\"type\":\"UnionRenderers\"},{\"attributes\":{},\"id\":\"1021\",\"type\":\"BasicTicker\"},{\"attributes\":{\"active_multi\":null,\"active_scroll\":{\"id\":\"1025\"},\"tools\":[{\"id\":\"1024\"},{\"id\":\"1025\"},{\"id\":\"1026\"},{\"id\":\"1027\"},{\"id\":\"1028\"},{\"id\":\"1029\"},{\"id\":\"1004\"}]},\"id\":\"1032\",\"type\":\"Toolbar\"},{\"attributes\":{\"overlay\":{\"id\":\"1030\"}},\"id\":\"1029\",\"type\":\"BoxSelectTool\"},{\"attributes\":{},\"id\":\"1065\",\"type\":\"Selection\"},{\"attributes\":{\"overlay\":{\"id\":\"1031\"}},\"id\":\"1026\",\"type\":\"BoxZoomTool\"},{\"attributes\":{},\"id\":\"1027\",\"type\":\"ResetTool\"}],\"root_ids\":[\"1005\"]},\"title\":\"Bokeh Application\",\"version\":\"2.3.3\"}};\n",
       "  var render_items = [{\"docid\":\"6e566475-50e8-48da-8a3a-d33585815e3e\",\"root_ids\":[\"1005\"],\"roots\":{\"1005\":\"4a1427f5-7675-4c56-8a62-d356d09af4d7\"}}];\n",
       "  root.Bokeh.embed.embed_items_notebook(docs_json, render_items);\n",
       "\n",
       "  }\n",
       "  if (root.Bokeh !== undefined) {\n",
       "    embed_document(root);\n",
       "  } else {\n",
       "    var attempts = 0;\n",
       "    var timer = setInterval(function(root) {\n",
       "      if (root.Bokeh !== undefined) {\n",
       "        clearInterval(timer);\n",
       "        embed_document(root);\n",
       "      } else {\n",
       "        attempts++;\n",
       "        if (attempts > 100) {\n",
       "          clearInterval(timer);\n",
       "          console.log(\"Bokeh: ERROR: Unable to run BokehJS code because BokehJS library is missing\");\n",
       "        }\n",
       "      }\n",
       "    }, 10, root)\n",
       "  }\n",
       "})(window);"
      ],
      "application/vnd.bokehjs_exec.v0+json": ""
     },
     "metadata": {
      "application/vnd.bokehjs_exec.v0+json": {
       "id": "1005"
      }
     },
     "output_type": "display_data"
    }
   ],
   "source": [
    "plot_ts(ts)"
   ]
  },
  {
   "cell_type": "markdown",
   "id": "million-pharmacology",
   "metadata": {},
   "source": [
    "## Поэтапное построение самого базового пайплайна для прогнозирования"
   ]
  },
  {
   "cell_type": "markdown",
   "id": "moved-stocks",
   "metadata": {},
   "source": [
    "### Задание 1."
   ]
  },
  {
   "cell_type": "markdown",
   "id": "excessive-control",
   "metadata": {},
   "source": [
    "Напишите функцию transform_to_matrix, которая бы принимала одномерный ряд и возвращала матрицу лагов\n",
    "\n",
    "1. Функция должна принимать временной ряд (pd.Series) и количество лагов (оно же количество признаков). \n",
    "\n",
    "2. Функция должна проходить по ряду скользящим окном с шириной num_lags и брать лаги текущего окна в качестве признаков, а следующую точку в качестве ответа на данном обьекте.\n",
    "3. Каждое перемещение окна на одну точку вперед сооветствует новому обьекту матрицы.\n",
    "4. Функция должная вернуть pd.Dataframe - т.е. матрицу объекты признаки."
   ]
  },
  {
   "cell_type": "code",
   "execution_count": 17,
   "id": "latin-broadcast",
   "metadata": {
    "collapsed": true
   },
   "outputs": [
    {
     "ename": "SyntaxError",
     "evalue": "invalid syntax (<ipython-input-17-a0e7d0be2a61>, line 2)",
     "output_type": "error",
     "traceback": [
      "\u001b[0;36m  File \u001b[0;32m\"<ipython-input-17-a0e7d0be2a61>\"\u001b[0;36m, line \u001b[0;32m2\u001b[0m\n\u001b[0;31m    <your code here>\u001b[0m\n\u001b[0m    ^\u001b[0m\n\u001b[0;31mSyntaxError\u001b[0m\u001b[0;31m:\u001b[0m invalid syntax\n"
     ]
    }
   ],
   "source": [
    "def transform_to_matrix(ts, num_lags):\n",
    "    <your code here>\n",
    "    return "
   ]
  },
  {
   "cell_type": "markdown",
   "id": "nuclear-requirement",
   "metadata": {},
   "source": [
    "### Задание 2."
   ]
  },
  {
   "cell_type": "code",
   "execution_count": 9,
   "id": "exclusive-community",
   "metadata": {},
   "outputs": [],
   "source": [
    "from statsmodels.graphics.tsaplots import plot_acf"
   ]
  },
  {
   "cell_type": "markdown",
   "id": "palestinian-astronomy",
   "metadata": {},
   "source": [
    "Получите матрицу обьекты-признаки, выбрав в качестве ориентировочного значения num_lags период сезонности ряда."
   ]
  },
  {
   "cell_type": "markdown",
   "id": "ignored-space",
   "metadata": {},
   "source": [
    "### Задание 3."
   ]
  },
  {
   "cell_type": "markdown",
   "id": "thirty-rates",
   "metadata": {},
   "source": [
    "Добавьте в модель следующие дополнительные признаки\n",
    "\n",
    "* Для всех лагов кроме целевого на каждой строчке матрицы расчитайте среднее и стандартное отклонение (не включайте текущий лаг на данном объекте, чтобы избежать лика информации из будущего).\n",
    "  \n",
    "Для всех обьектов добавьте в качестве признаков следующие datetime признаки (см аналогию в modern_approach.ipynb)\n",
    "1. sin/cos года текущего объекта\n",
    "2. sin/cos месяца текущего объекта\n",
    "3. sin/cos дня текущего объекта\n",
    "\n",
    "Подсказка (получить соответствующие значения можно из аттрибутов обьекта datetime)"
   ]
  },
  {
   "cell_type": "code",
   "execution_count": null,
   "id": "c012f46d",
   "metadata": {},
   "outputs": [],
   "source": [
    "<your code here>"
   ]
  },
  {
   "cell_type": "markdown",
   "id": "adverse-burns",
   "metadata": {},
   "source": [
    "### Задание 4."
   ]
  },
  {
   "cell_type": "markdown",
   "id": "centered-motel",
   "metadata": {},
   "source": [
    "Разделите на train/test в соотношении примерно 0.7 на 0.3.\n",
    "\n",
    "Обратите внимание что тест всегда должен быть после трейна, чтобы избежать ликов из будущего, поэтому никакого stratified split"
   ]
  },
  {
   "cell_type": "code",
   "execution_count": null,
   "id": "2921e8ac",
   "metadata": {},
   "outputs": [],
   "source": [
    "<your code here>"
   ]
  },
  {
   "cell_type": "markdown",
   "id": "congressional-bankruptcy",
   "metadata": {},
   "source": [
    "### Задание 5. "
   ]
  },
  {
   "cell_type": "markdown",
   "id": "atlantic-strengthening",
   "metadata": {},
   "source": [
    "Обучите модель линейной регрессии из sklearn (LinearRegression, Ridge, Lasso)`"
   ]
  },
  {
   "cell_type": "code",
   "execution_count": null,
   "id": "civilian-military",
   "metadata": {},
   "outputs": [],
   "source": [
    "<your code here>"
   ]
  }
 ],
 "metadata": {
  "kernelspec": {
   "display_name": "Python 3 (ipykernel)",
   "language": "python",
   "name": "python3"
  },
  "language_info": {
   "codemirror_mode": {
    "name": "ipython",
    "version": 3
   },
   "file_extension": ".py",
   "mimetype": "text/x-python",
   "name": "python",
   "nbconvert_exporter": "python",
   "pygments_lexer": "ipython3",
   "version": "3.8.12"
  }
 },
 "nbformat": 4,
 "nbformat_minor": 5
}
