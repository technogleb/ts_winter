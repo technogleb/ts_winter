{
 "cells": [
  {
   "cell_type": "code",
   "execution_count": 25,
   "id": "stuck-blood",
   "metadata": {},
   "outputs": [
    {
     "name": "stdout",
     "output_type": "stream",
     "text": [
      "The autoreload extension is already loaded. To reload it, use:\n",
      "  %reload_ext autoreload\n"
     ]
    }
   ],
   "source": [
    "%load_ext autoreload\n",
    "%autoreload 2"
   ]
  },
  {
   "cell_type": "code",
   "execution_count": 26,
   "id": "starting-teacher",
   "metadata": {},
   "outputs": [],
   "source": [
    "import sys\n",
    "from pathlib import Path\n",
    "\n",
    "sys.path.append(str(Path().cwd().parent))"
   ]
  },
  {
   "cell_type": "code",
   "execution_count": 27,
   "id": "cec1ce3c",
   "metadata": {},
   "outputs": [],
   "source": [
    "import warnings\n",
    "\n",
    "warnings.filterwarnings('ignore')"
   ]
  },
  {
   "cell_type": "code",
   "execution_count": 28,
   "id": "initial-owner",
   "metadata": {},
   "outputs": [],
   "source": [
    "from plotting import plot_ts"
   ]
  },
  {
   "cell_type": "markdown",
   "id": "sharing-happening",
   "metadata": {},
   "source": [
    "### Возьмем временной ряд"
   ]
  },
  {
   "cell_type": "code",
   "execution_count": 29,
   "id": "toxic-wayne",
   "metadata": {},
   "outputs": [],
   "source": [
    "from load_dataset import Dataset"
   ]
  },
  {
   "cell_type": "code",
   "execution_count": 30,
   "id": "infinite-financing",
   "metadata": {},
   "outputs": [],
   "source": [
    "ds = Dataset('../data/dataset/')"
   ]
  },
  {
   "cell_type": "code",
   "execution_count": 31,
   "id": "asian-guitar",
   "metadata": {},
   "outputs": [],
   "source": [
    "ts = ds['daily-min-temperatures.csv']"
   ]
  },
  {
   "cell_type": "markdown",
   "id": "breathing-hebrew",
   "metadata": {},
   "source": [
    "### Cоздание инстанса"
   ]
  },
  {
   "cell_type": "code",
   "execution_count": 32,
   "id": "described-morrison",
   "metadata": {},
   "outputs": [],
   "source": [
    "from model import TimeSeriesPredictor"
   ]
  },
  {
   "cell_type": "markdown",
   "id": "cognitive-arthritis",
   "metadata": {},
   "source": [
    "в качестве обязательных параметров принимает частоту ряда в формате iso8601\n",
    "и количество лагов для построения модели - granularity и num_lags"
   ]
  },
  {
   "cell_type": "code",
   "execution_count": 33,
   "id": "blank-innocent",
   "metadata": {},
   "outputs": [],
   "source": [
    "predictor = TimeSeriesPredictor('P1D', 365)"
   ]
  },
  {
   "cell_type": "markdown",
   "id": "narrow-publisher",
   "metadata": {},
   "source": [
    "также predictor'y можно передать параметр model, чтобы использовать конкретную модель для прогнозирования, модель может быть любым sklearn-совместимым эстиматором"
   ]
  },
  {
   "cell_type": "code",
   "execution_count": 34,
   "id": "rural-effect",
   "metadata": {},
   "outputs": [],
   "source": [
    "from sklearn.ensemble import GradientBoostingRegressor\n",
    "\n",
    "predictor = TimeSeriesPredictor('P1D', 365, model=GradientBoostingRegressor)"
   ]
  },
  {
   "cell_type": "markdown",
   "id": "crude-stockholm",
   "metadata": {},
   "source": [
    "model по умолчанию - LinearRegression"
   ]
  },
  {
   "cell_type": "code",
   "execution_count": 35,
   "id": "hourly-fishing",
   "metadata": {},
   "outputs": [
    {
     "data": {
      "text/plain": [
       "LinearRegression()"
      ]
     },
     "execution_count": 35,
     "metadata": {},
     "output_type": "execute_result"
    }
   ],
   "source": [
    "predictor = TimeSeriesPredictor('P1D', 365)\n",
    "predictor.model"
   ]
  },
  {
   "cell_type": "markdown",
   "id": "smooth-engine",
   "metadata": {},
   "source": [
    "также для передачи дополнительной информации в модель вы можете использовать параметр mappers куда нужно передать ваши функции, принимающие timestamp и возвращающие для него значение вашего доп признака"
   ]
  },
  {
   "cell_type": "code",
   "execution_count": 36,
   "id": "armed-water",
   "metadata": {},
   "outputs": [],
   "source": [
    "def get_hour(timestamp):\n",
    "    return timestamp.hour\n",
    "\n",
    "external_features = {\n",
    "    'hour': get_hour\n",
    "}\n",
    "\n",
    "predictor = TimeSeriesPredictor('P1D', 365, mappers=external_features)"
   ]
  },
  {
   "cell_type": "markdown",
   "id": "informed-nevada",
   "metadata": {},
   "source": [
    "Помимо основных параметровв модель также можно передать любое произвольно количество именованных аргументов **kwargs, которые будут переданы в конструктор `model`"
   ]
  },
  {
   "cell_type": "code",
   "execution_count": 37,
   "id": "raised-demographic",
   "metadata": {},
   "outputs": [],
   "source": [
    "from sklearn.ensemble import GradientBoostingRegressor\n",
    "\n",
    "predictor = TimeSeriesPredictor('P1D', 365, model=GradientBoostingRegressor, max_depth=6, n_estimators=1000)"
   ]
  },
  {
   "cell_type": "markdown",
   "id": "involved-suspension",
   "metadata": {},
   "source": [
    "### Получение и установка параметров и функционал get/set params"
   ]
  },
  {
   "cell_type": "markdown",
   "id": "involved-compensation",
   "metadata": {},
   "source": [
    "классическое получение и задание аттрибутов"
   ]
  },
  {
   "cell_type": "code",
   "execution_count": 38,
   "id": "known-turkey",
   "metadata": {},
   "outputs": [
    {
     "data": {
      "text/plain": [
       "0.1"
      ]
     },
     "execution_count": 38,
     "metadata": {},
     "output_type": "execute_result"
    }
   ],
   "source": [
    "predictor.num_lags\n",
    "predictor.model\n",
    "predictor.model.learning_rate"
   ]
  },
  {
   "cell_type": "code",
   "execution_count": 39,
   "id": "designed-alfred",
   "metadata": {},
   "outputs": [],
   "source": [
    "predictor.model.learning_rate = 0.2"
   ]
  },
  {
   "cell_type": "code",
   "execution_count": 40,
   "id": "interstate-refrigerator",
   "metadata": {},
   "outputs": [
    {
     "data": {
      "text/plain": [
       "0.2"
      ]
     },
     "execution_count": 40,
     "metadata": {},
     "output_type": "execute_result"
    }
   ],
   "source": [
    "predictor.model.learning_rate"
   ]
  },
  {
   "cell_type": "markdown",
   "id": "acoustic-blowing",
   "metadata": {},
   "source": [
    "метод get_params получает словарь всех параметров модели включая sub-параметры модели, в таком случае они идут с префиксом\n",
    "`model__`"
   ]
  },
  {
   "cell_type": "code",
   "execution_count": 41,
   "id": "statewide-writer",
   "metadata": {},
   "outputs": [
    {
     "data": {
      "text/plain": [
       "{'granularity': 'P1D',\n",
       " 'mappers': {},\n",
       " 'model__alpha': 0.9,\n",
       " 'model__ccp_alpha': 0.0,\n",
       " 'model__criterion': 'friedman_mse',\n",
       " 'model__init': None,\n",
       " 'model__learning_rate': 0.2,\n",
       " 'model__loss': 'squared_error',\n",
       " 'model__max_depth': 6,\n",
       " 'model__max_features': None,\n",
       " 'model__max_leaf_nodes': None,\n",
       " 'model__min_impurity_decrease': 0.0,\n",
       " 'model__min_samples_leaf': 1,\n",
       " 'model__min_samples_split': 2,\n",
       " 'model__min_weight_fraction_leaf': 0.0,\n",
       " 'model__n_estimators': 1000,\n",
       " 'model__n_iter_no_change': None,\n",
       " 'model__random_state': None,\n",
       " 'model__subsample': 1.0,\n",
       " 'model__tol': 0.0001,\n",
       " 'model__validation_fraction': 0.1,\n",
       " 'model__verbose': 0,\n",
       " 'model__warm_start': False,\n",
       " 'model': GradientBoostingRegressor(learning_rate=0.2, max_depth=6, n_estimators=1000),\n",
       " 'num_lags': 365}"
      ]
     },
     "execution_count": 41,
     "metadata": {},
     "output_type": "execute_result"
    }
   ],
   "source": [
    "predictor.get_params()"
   ]
  },
  {
   "cell_type": "markdown",
   "id": "rural-contrary",
   "metadata": {},
   "source": [
    "метод set_params реализует обратную логику, принимая набор параметров для установки, включая sub-параметры модели, в таком случае их нужно указывать с префиксом `model__`"
   ]
  },
  {
   "cell_type": "code",
   "execution_count": 42,
   "id": "controlled-shoulder",
   "metadata": {},
   "outputs": [
    {
     "data": {
      "text/plain": [
       "<model.TimeSeriesPredictor at 0x133d39dc0>"
      ]
     },
     "execution_count": 42,
     "metadata": {},
     "output_type": "execute_result"
    }
   ],
   "source": [
    "from sklearn.ensemble import RandomForestRegressor\n",
    "\n",
    "\n",
    "params = {\n",
    "    'num_lags': 730,\n",
    "    'model': RandomForestRegressor(),  # обратите внимание, что в данном случае требуется создать инстанс модели!!\n",
    "    'model__max_depth': 3,\n",
    "    'model__n_estimators': 400,\n",
    "}\n",
    "\n",
    "predictor.set_params(**params)  # параметры необходимо распаковать"
   ]
  },
  {
   "cell_type": "code",
   "execution_count": 43,
   "id": "forced-summary",
   "metadata": {},
   "outputs": [
    {
     "data": {
      "text/plain": [
       "{'granularity': 'P1D',\n",
       " 'mappers': {},\n",
       " 'model__bootstrap': True,\n",
       " 'model__ccp_alpha': 0.0,\n",
       " 'model__criterion': 'squared_error',\n",
       " 'model__max_depth': 3,\n",
       " 'model__max_features': 'auto',\n",
       " 'model__max_leaf_nodes': None,\n",
       " 'model__max_samples': None,\n",
       " 'model__min_impurity_decrease': 0.0,\n",
       " 'model__min_samples_leaf': 1,\n",
       " 'model__min_samples_split': 2,\n",
       " 'model__min_weight_fraction_leaf': 0.0,\n",
       " 'model__n_estimators': 400,\n",
       " 'model__n_jobs': None,\n",
       " 'model__oob_score': False,\n",
       " 'model__random_state': None,\n",
       " 'model__verbose': 0,\n",
       " 'model__warm_start': False,\n",
       " 'model': RandomForestRegressor(max_depth=3, n_estimators=400),\n",
       " 'num_lags': 730}"
      ]
     },
     "execution_count": 43,
     "metadata": {},
     "output_type": "execute_result"
    }
   ],
   "source": [
    "predictor.get_params()"
   ]
  },
  {
   "cell_type": "markdown",
   "id": "public-engine",
   "metadata": {},
   "source": [
    "###  Обучение модели"
   ]
  },
  {
   "cell_type": "markdown",
   "id": "guilty-international",
   "metadata": {},
   "source": [
    "в данном случае на вход подается временной ряд в формате pd.Series"
   ]
  },
  {
   "cell_type": "code",
   "execution_count": 44,
   "id": "stretch-jersey",
   "metadata": {},
   "outputs": [],
   "source": [
    "split_idx = int(len(ts) * 0.7)\n",
    "\n",
    "ts_train, ts_test = ts[:split_idx], ts[split_idx:]"
   ]
  },
  {
   "cell_type": "code",
   "execution_count": 45,
   "id": "narrative-glass",
   "metadata": {},
   "outputs": [],
   "source": [
    "predictor.fit(ts_train)"
   ]
  },
  {
   "cell_type": "markdown",
   "id": "paperback-attribute",
   "metadata": {},
   "source": [
    "### Получение out-of-sample прогноза"
   ]
  },
  {
   "cell_type": "markdown",
   "id": "scenic-richmond",
   "metadata": {},
   "source": [
    "на вход подаем временной ряд от которого нужно сделать прогноз (длинной минимум num_lags) + горизонт прогнозирования"
   ]
  },
  {
   "cell_type": "code",
   "execution_count": 46,
   "id": "distant-sound",
   "metadata": {},
   "outputs": [],
   "source": [
    "from sklearn.metrics import mean_squared_error as mse"
   ]
  },
  {
   "cell_type": "code",
   "execution_count": 47,
   "id": "prospective-rhythm",
   "metadata": {},
   "outputs": [],
   "source": [
    "preds = predictor.predict_next(ts_train, n_steps=len(ts_test))"
   ]
  },
  {
   "cell_type": "code",
   "execution_count": 48,
   "id": "dutch-grace",
   "metadata": {},
   "outputs": [
    {
     "data": {
      "text/html": [
       "\n",
       "    <div class=\"bk-root\">\n",
       "        <a href=\"https://bokeh.org\" target=\"_blank\" class=\"bk-logo bk-logo-small bk-logo-notebook\"></a>\n",
       "        <span id=\"1002\">Loading BokehJS ...</span>\n",
       "    </div>"
      ]
     },
     "metadata": {},
     "output_type": "display_data"
    },
    {
     "data": {
      "application/javascript": [
       "\n",
       "(function(root) {\n",
       "  function now() {\n",
       "    return new Date();\n",
       "  }\n",
       "\n",
       "  const force = true;\n",
       "\n",
       "  if (typeof root._bokeh_onload_callbacks === \"undefined\" || force === true) {\n",
       "    root._bokeh_onload_callbacks = [];\n",
       "    root._bokeh_is_loading = undefined;\n",
       "  }\n",
       "\n",
       "  const JS_MIME_TYPE = 'application/javascript';\n",
       "  const HTML_MIME_TYPE = 'text/html';\n",
       "  const EXEC_MIME_TYPE = 'application/vnd.bokehjs_exec.v0+json';\n",
       "  const CLASS_NAME = 'output_bokeh rendered_html';\n",
       "\n",
       "  /**\n",
       "   * Render data to the DOM node\n",
       "   */\n",
       "  function render(props, node) {\n",
       "    const script = document.createElement(\"script\");\n",
       "    node.appendChild(script);\n",
       "  }\n",
       "\n",
       "  /**\n",
       "   * Handle when an output is cleared or removed\n",
       "   */\n",
       "  function handleClearOutput(event, handle) {\n",
       "    const cell = handle.cell;\n",
       "\n",
       "    const id = cell.output_area._bokeh_element_id;\n",
       "    const server_id = cell.output_area._bokeh_server_id;\n",
       "    // Clean up Bokeh references\n",
       "    if (id != null && id in Bokeh.index) {\n",
       "      Bokeh.index[id].model.document.clear();\n",
       "      delete Bokeh.index[id];\n",
       "    }\n",
       "\n",
       "    if (server_id !== undefined) {\n",
       "      // Clean up Bokeh references\n",
       "      const cmd_clean = \"from bokeh.io.state import curstate; print(curstate().uuid_to_server['\" + server_id + \"'].get_sessions()[0].document.roots[0]._id)\";\n",
       "      cell.notebook.kernel.execute(cmd_clean, {\n",
       "        iopub: {\n",
       "          output: function(msg) {\n",
       "            const id = msg.content.text.trim();\n",
       "            if (id in Bokeh.index) {\n",
       "              Bokeh.index[id].model.document.clear();\n",
       "              delete Bokeh.index[id];\n",
       "            }\n",
       "          }\n",
       "        }\n",
       "      });\n",
       "      // Destroy server and session\n",
       "      const cmd_destroy = \"import bokeh.io.notebook as ion; ion.destroy_server('\" + server_id + \"')\";\n",
       "      cell.notebook.kernel.execute(cmd_destroy);\n",
       "    }\n",
       "  }\n",
       "\n",
       "  /**\n",
       "   * Handle when a new output is added\n",
       "   */\n",
       "  function handleAddOutput(event, handle) {\n",
       "    const output_area = handle.output_area;\n",
       "    const output = handle.output;\n",
       "\n",
       "    // limit handleAddOutput to display_data with EXEC_MIME_TYPE content only\n",
       "    if ((output.output_type != \"display_data\") || (!Object.prototype.hasOwnProperty.call(output.data, EXEC_MIME_TYPE))) {\n",
       "      return\n",
       "    }\n",
       "\n",
       "    const toinsert = output_area.element.find(\".\" + CLASS_NAME.split(' ')[0]);\n",
       "\n",
       "    if (output.metadata[EXEC_MIME_TYPE][\"id\"] !== undefined) {\n",
       "      toinsert[toinsert.length - 1].firstChild.textContent = output.data[JS_MIME_TYPE];\n",
       "      // store reference to embed id on output_area\n",
       "      output_area._bokeh_element_id = output.metadata[EXEC_MIME_TYPE][\"id\"];\n",
       "    }\n",
       "    if (output.metadata[EXEC_MIME_TYPE][\"server_id\"] !== undefined) {\n",
       "      const bk_div = document.createElement(\"div\");\n",
       "      bk_div.innerHTML = output.data[HTML_MIME_TYPE];\n",
       "      const script_attrs = bk_div.children[0].attributes;\n",
       "      for (let i = 0; i < script_attrs.length; i++) {\n",
       "        toinsert[toinsert.length - 1].firstChild.setAttribute(script_attrs[i].name, script_attrs[i].value);\n",
       "        toinsert[toinsert.length - 1].firstChild.textContent = bk_div.children[0].textContent\n",
       "      }\n",
       "      // store reference to server id on output_area\n",
       "      output_area._bokeh_server_id = output.metadata[EXEC_MIME_TYPE][\"server_id\"];\n",
       "    }\n",
       "  }\n",
       "\n",
       "  function register_renderer(events, OutputArea) {\n",
       "\n",
       "    function append_mime(data, metadata, element) {\n",
       "      // create a DOM node to render to\n",
       "      const toinsert = this.create_output_subarea(\n",
       "        metadata,\n",
       "        CLASS_NAME,\n",
       "        EXEC_MIME_TYPE\n",
       "      );\n",
       "      this.keyboard_manager.register_events(toinsert);\n",
       "      // Render to node\n",
       "      const props = {data: data, metadata: metadata[EXEC_MIME_TYPE]};\n",
       "      render(props, toinsert[toinsert.length - 1]);\n",
       "      element.append(toinsert);\n",
       "      return toinsert\n",
       "    }\n",
       "\n",
       "    /* Handle when an output is cleared or removed */\n",
       "    events.on('clear_output.CodeCell', handleClearOutput);\n",
       "    events.on('delete.Cell', handleClearOutput);\n",
       "\n",
       "    /* Handle when a new output is added */\n",
       "    events.on('output_added.OutputArea', handleAddOutput);\n",
       "\n",
       "    /**\n",
       "     * Register the mime type and append_mime function with output_area\n",
       "     */\n",
       "    OutputArea.prototype.register_mime_type(EXEC_MIME_TYPE, append_mime, {\n",
       "      /* Is output safe? */\n",
       "      safe: true,\n",
       "      /* Index of renderer in `output_area.display_order` */\n",
       "      index: 0\n",
       "    });\n",
       "  }\n",
       "\n",
       "  // register the mime type if in Jupyter Notebook environment and previously unregistered\n",
       "  if (root.Jupyter !== undefined) {\n",
       "    const events = require('base/js/events');\n",
       "    const OutputArea = require('notebook/js/outputarea').OutputArea;\n",
       "\n",
       "    if (OutputArea.prototype.mime_types().indexOf(EXEC_MIME_TYPE) == -1) {\n",
       "      register_renderer(events, OutputArea);\n",
       "    }\n",
       "  }\n",
       "\n",
       "  \n",
       "  if (typeof (root._bokeh_timeout) === \"undefined\" || force === true) {\n",
       "    root._bokeh_timeout = Date.now() + 5000;\n",
       "    root._bokeh_failed_load = false;\n",
       "  }\n",
       "\n",
       "  const NB_LOAD_WARNING = {'data': {'text/html':\n",
       "     \"<div style='background-color: #fdd'>\\n\"+\n",
       "     \"<p>\\n\"+\n",
       "     \"BokehJS does not appear to have successfully loaded. If loading BokehJS from CDN, this \\n\"+\n",
       "     \"may be due to a slow or bad network connection. Possible fixes:\\n\"+\n",
       "     \"</p>\\n\"+\n",
       "     \"<ul>\\n\"+\n",
       "     \"<li>re-rerun `output_notebook()` to attempt to load from CDN again, or</li>\\n\"+\n",
       "     \"<li>use INLINE resources instead, as so:</li>\\n\"+\n",
       "     \"</ul>\\n\"+\n",
       "     \"<code>\\n\"+\n",
       "     \"from bokeh.resources import INLINE\\n\"+\n",
       "     \"output_notebook(resources=INLINE)\\n\"+\n",
       "     \"</code>\\n\"+\n",
       "     \"</div>\"}};\n",
       "\n",
       "  function display_loaded() {\n",
       "    const el = document.getElementById(\"1002\");\n",
       "    if (el != null) {\n",
       "      el.textContent = \"BokehJS is loading...\";\n",
       "    }\n",
       "    if (root.Bokeh !== undefined) {\n",
       "      if (el != null) {\n",
       "        el.textContent = \"BokehJS \" + root.Bokeh.version + \" successfully loaded.\";\n",
       "      }\n",
       "    } else if (Date.now() < root._bokeh_timeout) {\n",
       "      setTimeout(display_loaded, 100)\n",
       "    }\n",
       "  }\n",
       "\n",
       "\n",
       "  function run_callbacks() {\n",
       "    try {\n",
       "      root._bokeh_onload_callbacks.forEach(function(callback) {\n",
       "        if (callback != null)\n",
       "          callback();\n",
       "      });\n",
       "    } finally {\n",
       "      delete root._bokeh_onload_callbacks\n",
       "    }\n",
       "    console.debug(\"Bokeh: all callbacks have finished\");\n",
       "  }\n",
       "\n",
       "  function load_libs(css_urls, js_urls, callback) {\n",
       "    if (css_urls == null) css_urls = [];\n",
       "    if (js_urls == null) js_urls = [];\n",
       "\n",
       "    root._bokeh_onload_callbacks.push(callback);\n",
       "    if (root._bokeh_is_loading > 0) {\n",
       "      console.debug(\"Bokeh: BokehJS is being loaded, scheduling callback at\", now());\n",
       "      return null;\n",
       "    }\n",
       "    if (js_urls == null || js_urls.length === 0) {\n",
       "      run_callbacks();\n",
       "      return null;\n",
       "    }\n",
       "    console.debug(\"Bokeh: BokehJS not loaded, scheduling load and callback at\", now());\n",
       "    root._bokeh_is_loading = css_urls.length + js_urls.length;\n",
       "\n",
       "    function on_load() {\n",
       "      root._bokeh_is_loading--;\n",
       "      if (root._bokeh_is_loading === 0) {\n",
       "        console.debug(\"Bokeh: all BokehJS libraries/stylesheets loaded\");\n",
       "        run_callbacks()\n",
       "      }\n",
       "    }\n",
       "\n",
       "    function on_error(url) {\n",
       "      console.error(\"failed to load \" + url);\n",
       "    }\n",
       "\n",
       "    for (let i = 0; i < css_urls.length; i++) {\n",
       "      const url = css_urls[i];\n",
       "      const element = document.createElement(\"link\");\n",
       "      element.onload = on_load;\n",
       "      element.onerror = on_error.bind(null, url);\n",
       "      element.rel = \"stylesheet\";\n",
       "      element.type = \"text/css\";\n",
       "      element.href = url;\n",
       "      console.debug(\"Bokeh: injecting link tag for BokehJS stylesheet: \", url);\n",
       "      document.body.appendChild(element);\n",
       "    }\n",
       "\n",
       "    for (let i = 0; i < js_urls.length; i++) {\n",
       "      const url = js_urls[i];\n",
       "      const element = document.createElement('script');\n",
       "      element.onload = on_load;\n",
       "      element.onerror = on_error.bind(null, url);\n",
       "      element.async = false;\n",
       "      element.src = url;\n",
       "      console.debug(\"Bokeh: injecting script tag for BokehJS library: \", url);\n",
       "      document.head.appendChild(element);\n",
       "    }\n",
       "  };\n",
       "\n",
       "  function inject_raw_css(css) {\n",
       "    const element = document.createElement(\"style\");\n",
       "    element.appendChild(document.createTextNode(css));\n",
       "    document.body.appendChild(element);\n",
       "  }\n",
       "\n",
       "  \n",
       "  const js_urls = [\"https://cdn.bokeh.org/bokeh/release/bokeh-2.4.2.min.js\", \"https://cdn.bokeh.org/bokeh/release/bokeh-gl-2.4.2.min.js\", \"https://cdn.bokeh.org/bokeh/release/bokeh-widgets-2.4.2.min.js\", \"https://cdn.bokeh.org/bokeh/release/bokeh-tables-2.4.2.min.js\", \"https://cdn.bokeh.org/bokeh/release/bokeh-mathjax-2.4.2.min.js\"];\n",
       "  const css_urls = [];\n",
       "  \n",
       "\n",
       "  const inline_js = [\n",
       "    function(Bokeh) {\n",
       "      Bokeh.set_log_level(\"info\");\n",
       "    },\n",
       "    function(Bokeh) {\n",
       "    \n",
       "    \n",
       "    }\n",
       "  ];\n",
       "\n",
       "  function run_inline_js() {\n",
       "    \n",
       "    if (root.Bokeh !== undefined || force === true) {\n",
       "      \n",
       "    for (let i = 0; i < inline_js.length; i++) {\n",
       "      inline_js[i].call(root, root.Bokeh);\n",
       "    }\n",
       "    if (force === true) {\n",
       "        display_loaded();\n",
       "      }} else if (Date.now() < root._bokeh_timeout) {\n",
       "      setTimeout(run_inline_js, 100);\n",
       "    } else if (!root._bokeh_failed_load) {\n",
       "      console.log(\"Bokeh: BokehJS failed to load within specified timeout.\");\n",
       "      root._bokeh_failed_load = true;\n",
       "    } else if (force !== true) {\n",
       "      const cell = $(document.getElementById(\"1002\")).parents('.cell').data().cell;\n",
       "      cell.output_area.append_execute_result(NB_LOAD_WARNING)\n",
       "    }\n",
       "\n",
       "  }\n",
       "\n",
       "  if (root._bokeh_is_loading === 0) {\n",
       "    console.debug(\"Bokeh: BokehJS loaded, going straight to plotting\");\n",
       "    run_inline_js();\n",
       "  } else {\n",
       "    load_libs(css_urls, js_urls, function() {\n",
       "      console.debug(\"Bokeh: BokehJS plotting callback run at\", now());\n",
       "      run_inline_js();\n",
       "    });\n",
       "  }\n",
       "}(window));"
      ],
      "application/vnd.bokehjs_load.v0+json": "\n(function(root) {\n  function now() {\n    return new Date();\n  }\n\n  const force = true;\n\n  if (typeof root._bokeh_onload_callbacks === \"undefined\" || force === true) {\n    root._bokeh_onload_callbacks = [];\n    root._bokeh_is_loading = undefined;\n  }\n\n  \n\n  \n  if (typeof (root._bokeh_timeout) === \"undefined\" || force === true) {\n    root._bokeh_timeout = Date.now() + 5000;\n    root._bokeh_failed_load = false;\n  }\n\n  const NB_LOAD_WARNING = {'data': {'text/html':\n     \"<div style='background-color: #fdd'>\\n\"+\n     \"<p>\\n\"+\n     \"BokehJS does not appear to have successfully loaded. If loading BokehJS from CDN, this \\n\"+\n     \"may be due to a slow or bad network connection. Possible fixes:\\n\"+\n     \"</p>\\n\"+\n     \"<ul>\\n\"+\n     \"<li>re-rerun `output_notebook()` to attempt to load from CDN again, or</li>\\n\"+\n     \"<li>use INLINE resources instead, as so:</li>\\n\"+\n     \"</ul>\\n\"+\n     \"<code>\\n\"+\n     \"from bokeh.resources import INLINE\\n\"+\n     \"output_notebook(resources=INLINE)\\n\"+\n     \"</code>\\n\"+\n     \"</div>\"}};\n\n  function display_loaded() {\n    const el = document.getElementById(\"1002\");\n    if (el != null) {\n      el.textContent = \"BokehJS is loading...\";\n    }\n    if (root.Bokeh !== undefined) {\n      if (el != null) {\n        el.textContent = \"BokehJS \" + root.Bokeh.version + \" successfully loaded.\";\n      }\n    } else if (Date.now() < root._bokeh_timeout) {\n      setTimeout(display_loaded, 100)\n    }\n  }\n\n\n  function run_callbacks() {\n    try {\n      root._bokeh_onload_callbacks.forEach(function(callback) {\n        if (callback != null)\n          callback();\n      });\n    } finally {\n      delete root._bokeh_onload_callbacks\n    }\n    console.debug(\"Bokeh: all callbacks have finished\");\n  }\n\n  function load_libs(css_urls, js_urls, callback) {\n    if (css_urls == null) css_urls = [];\n    if (js_urls == null) js_urls = [];\n\n    root._bokeh_onload_callbacks.push(callback);\n    if (root._bokeh_is_loading > 0) {\n      console.debug(\"Bokeh: BokehJS is being loaded, scheduling callback at\", now());\n      return null;\n    }\n    if (js_urls == null || js_urls.length === 0) {\n      run_callbacks();\n      return null;\n    }\n    console.debug(\"Bokeh: BokehJS not loaded, scheduling load and callback at\", now());\n    root._bokeh_is_loading = css_urls.length + js_urls.length;\n\n    function on_load() {\n      root._bokeh_is_loading--;\n      if (root._bokeh_is_loading === 0) {\n        console.debug(\"Bokeh: all BokehJS libraries/stylesheets loaded\");\n        run_callbacks()\n      }\n    }\n\n    function on_error(url) {\n      console.error(\"failed to load \" + url);\n    }\n\n    for (let i = 0; i < css_urls.length; i++) {\n      const url = css_urls[i];\n      const element = document.createElement(\"link\");\n      element.onload = on_load;\n      element.onerror = on_error.bind(null, url);\n      element.rel = \"stylesheet\";\n      element.type = \"text/css\";\n      element.href = url;\n      console.debug(\"Bokeh: injecting link tag for BokehJS stylesheet: \", url);\n      document.body.appendChild(element);\n    }\n\n    for (let i = 0; i < js_urls.length; i++) {\n      const url = js_urls[i];\n      const element = document.createElement('script');\n      element.onload = on_load;\n      element.onerror = on_error.bind(null, url);\n      element.async = false;\n      element.src = url;\n      console.debug(\"Bokeh: injecting script tag for BokehJS library: \", url);\n      document.head.appendChild(element);\n    }\n  };\n\n  function inject_raw_css(css) {\n    const element = document.createElement(\"style\");\n    element.appendChild(document.createTextNode(css));\n    document.body.appendChild(element);\n  }\n\n  \n  const js_urls = [\"https://cdn.bokeh.org/bokeh/release/bokeh-2.4.2.min.js\", \"https://cdn.bokeh.org/bokeh/release/bokeh-gl-2.4.2.min.js\", \"https://cdn.bokeh.org/bokeh/release/bokeh-widgets-2.4.2.min.js\", \"https://cdn.bokeh.org/bokeh/release/bokeh-tables-2.4.2.min.js\", \"https://cdn.bokeh.org/bokeh/release/bokeh-mathjax-2.4.2.min.js\"];\n  const css_urls = [];\n  \n\n  const inline_js = [\n    function(Bokeh) {\n      Bokeh.set_log_level(\"info\");\n    },\n    function(Bokeh) {\n    \n    \n    }\n  ];\n\n  function run_inline_js() {\n    \n    if (root.Bokeh !== undefined || force === true) {\n      \n    for (let i = 0; i < inline_js.length; i++) {\n      inline_js[i].call(root, root.Bokeh);\n    }\n    if (force === true) {\n        display_loaded();\n      }} else if (Date.now() < root._bokeh_timeout) {\n      setTimeout(run_inline_js, 100);\n    } else if (!root._bokeh_failed_load) {\n      console.log(\"Bokeh: BokehJS failed to load within specified timeout.\");\n      root._bokeh_failed_load = true;\n    } else if (force !== true) {\n      const cell = $(document.getElementById(\"1002\")).parents('.cell').data().cell;\n      cell.output_area.append_execute_result(NB_LOAD_WARNING)\n    }\n\n  }\n\n  if (root._bokeh_is_loading === 0) {\n    console.debug(\"Bokeh: BokehJS loaded, going straight to plotting\");\n    run_inline_js();\n  } else {\n    load_libs(css_urls, js_urls, function() {\n      console.debug(\"Bokeh: BokehJS plotting callback run at\", now());\n      run_inline_js();\n    });\n  }\n}(window));"
     },
     "metadata": {},
     "output_type": "display_data"
    },
    {
     "data": {
      "text/html": [
       "\n",
       "\n",
       "\n",
       "\n",
       "\n",
       "\n",
       "  <div class=\"bk-root\" id=\"e344f0d9-cf3b-496e-b722-e1bc912e0211\" data-root-id=\"1005\"></div>\n"
      ]
     },
     "metadata": {},
     "output_type": "display_data"
    },
    {
     "data": {
      "application/javascript": [
       "(function(root) {\n",
       "  function embed_document(root) {\n",
       "    \n",
       "  const docs_json = {\"e9da2466-5adb-4fc3-8223-9e77b261c402\":{\"defs\":[],\"roots\":{\"references\":[{\"attributes\":{\"below\":[{\"id\":\"1016\"}],\"center\":[{\"id\":\"1019\"},{\"id\":\"1023\"}],\"left\":[{\"id\":\"1020\"}],\"renderers\":[{\"id\":\"1045\"},{\"id\":\"1051\"}],\"title\":{\"id\":\"1006\"},\"toolbar\":{\"id\":\"1032\"},\"width\":900,\"x_range\":{\"id\":\"1008\"},\"x_scale\":{\"id\":\"1012\"},\"y_range\":{\"id\":\"1010\"},\"y_scale\":{\"id\":\"1014\"}},\"id\":\"1005\",\"subtype\":\"Figure\",\"type\":\"Plot\"},{\"attributes\":{\"callback\":null,\"formatters\":{\"@x\":\"datetime\"},\"mode\":\"vline\",\"tooltips\":[[\"date\",\"@x{%d-%m-%YT%H:%M:%S}\"],[\"value\",\"@y\"]]},\"id\":\"1004\",\"type\":\"HoverTool\"},{\"attributes\":{},\"id\":\"1059\",\"type\":\"UnionRenderers\"},{\"attributes\":{\"months\":[0,6]},\"id\":\"1075\",\"type\":\"MonthsTicker\"},{\"attributes\":{\"line_color\":\"#1f77b4\",\"line_width\":2,\"x\":{\"field\":\"x\"},\"y\":{\"field\":\"y\"}},\"id\":\"1042\",\"type\":\"Line\"},{\"attributes\":{\"line_alpha\":0.1,\"line_color\":\"orange\",\"line_width\":2,\"x\":{\"field\":\"x\"},\"y\":{\"field\":\"y\"}},\"id\":\"1049\",\"type\":\"Line\"},{\"attributes\":{\"base\":24,\"mantissas\":[1,2,4,6,8,12],\"max_interval\":43200000.0,\"min_interval\":3600000.0,\"num_minor_ticks\":0},\"id\":\"1067\",\"type\":\"AdaptiveTicker\"},{\"attributes\":{\"coordinates\":null,\"data_source\":{\"id\":\"1041\"},\"glyph\":{\"id\":\"1042\"},\"group\":null,\"hover_glyph\":null,\"muted_glyph\":{\"id\":\"1044\"},\"nonselection_glyph\":{\"id\":\"1043\"},\"view\":{\"id\":\"1046\"}},\"id\":\"1045\",\"type\":\"GlyphRenderer\"},{\"attributes\":{},\"id\":\"1028\",\"type\":\"SaveTool\"},{\"attributes\":{},\"id\":\"1055\",\"type\":\"BasicTickFormatter\"},{\"attributes\":{\"coordinates\":null,\"group\":null},\"id\":\"1006\",\"type\":\"Title\"},{\"attributes\":{\"axis\":{\"id\":\"1020\"},\"coordinates\":null,\"dimension\":1,\"group\":null,\"ticker\":null},\"id\":\"1023\",\"type\":\"Grid\"},{\"attributes\":{},\"id\":\"1027\",\"type\":\"ResetTool\"},{\"attributes\":{\"coordinates\":null,\"data_source\":{\"id\":\"1047\"},\"glyph\":{\"id\":\"1048\"},\"group\":null,\"hover_glyph\":null,\"muted_glyph\":{\"id\":\"1050\"},\"nonselection_glyph\":{\"id\":\"1049\"},\"view\":{\"id\":\"1052\"}},\"id\":\"1051\",\"type\":\"GlyphRenderer\"},{\"attributes\":{\"bottom_units\":\"screen\",\"coordinates\":null,\"fill_alpha\":0.5,\"fill_color\":\"lightgrey\",\"group\":null,\"left_units\":\"screen\",\"level\":\"overlay\",\"line_alpha\":1.0,\"line_color\":\"black\",\"line_dash\":[4,4],\"line_width\":2,\"right_units\":\"screen\",\"syncable\":false,\"top_units\":\"screen\"},\"id\":\"1031\",\"type\":\"BoxAnnotation\"},{\"attributes\":{},\"id\":\"1021\",\"type\":\"BasicTicker\"},{\"attributes\":{},\"id\":\"1058\",\"type\":\"AllLabels\"},{\"attributes\":{\"days\":[1,2,3,4,5,6,7,8,9,10,11,12,13,14,15,16,17,18,19,20,21,22,23,24,25,26,27,28,29,30,31]},\"id\":\"1068\",\"type\":\"DaysTicker\"},{\"attributes\":{\"overlay\":{\"id\":\"1030\"}},\"id\":\"1029\",\"type\":\"BoxSelectTool\"},{\"attributes\":{},\"id\":\"1010\",\"type\":\"DataRange1d\"},{\"attributes\":{},\"id\":\"1024\",\"type\":\"PanTool\"},{\"attributes\":{},\"id\":\"1076\",\"type\":\"YearsTicker\"},{\"attributes\":{\"axis\":{\"id\":\"1016\"},\"coordinates\":null,\"group\":null,\"ticker\":null},\"id\":\"1019\",\"type\":\"Grid\"},{\"attributes\":{\"data\":{\"x\":{\"__ndarray__\":\"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\",\"dtype\":\"float64\",\"order\":\"little\",\"shape\":[1095]},\"y\":{\"__ndarray__\":\"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\",\"dtype\":\"float64\",\"order\":\"little\",\"shape\":[1095]}},\"selected\":{\"id\":\"1062\"},\"selection_policy\":{\"id\":\"1061\"}},\"id\":\"1047\",\"type\":\"ColumnDataSource\"},{\"attributes\":{},\"id\":\"1062\",\"type\":\"Selection\"},{\"attributes\":{\"days\":[1,15]},\"id\":\"1071\",\"type\":\"DaysTicker\"},{\"attributes\":{\"source\":{\"id\":\"1047\"}},\"id\":\"1052\",\"type\":\"CDSView\"},{\"attributes\":{\"base\":60,\"mantissas\":[1,2,5,10,15,20,30],\"max_interval\":1800000.0,\"min_interval\":1000.0,\"num_minor_ticks\":0},\"id\":\"1066\",\"type\":\"AdaptiveTicker\"},{\"attributes\":{\"active_scroll\":{\"id\":\"1025\"},\"tools\":[{\"id\":\"1024\"},{\"id\":\"1025\"},{\"id\":\"1026\"},{\"id\":\"1027\"},{\"id\":\"1028\"},{\"id\":\"1029\"},{\"id\":\"1004\"}]},\"id\":\"1032\",\"type\":\"Toolbar\"},{\"attributes\":{},\"id\":\"1014\",\"type\":\"LinearScale\"},{\"attributes\":{},\"id\":\"1008\",\"type\":\"DataRange1d\"},{\"attributes\":{},\"id\":\"1056\",\"type\":\"AllLabels\"},{\"attributes\":{\"line_alpha\":0.2,\"line_color\":\"orange\",\"line_width\":2,\"x\":{\"field\":\"x\"},\"y\":{\"field\":\"y\"}},\"id\":\"1050\",\"type\":\"Line\"},{\"attributes\":{},\"id\":\"1025\",\"type\":\"WheelZoomTool\"},{\"attributes\":{\"days\":[1,4,7,10,13,16,19,22,25,28]},\"id\":\"1069\",\"type\":\"DaysTicker\"},{\"attributes\":{},\"id\":\"1060\",\"type\":\"Selection\"},{\"attributes\":{\"days\":[\"%d %B %Y\"],\"hours\":[\"%d %B %Y\"],\"months\":[\"%d %B %Y\"],\"years\":[\"%d %B %Y\"]},\"id\":\"1003\",\"type\":\"DatetimeTickFormatter\"},{\"attributes\":{\"months\":[0,2,4,6,8,10]},\"id\":\"1073\",\"type\":\"MonthsTicker\"},{\"attributes\":{},\"id\":\"1061\",\"type\":\"UnionRenderers\"},{\"attributes\":{\"num_minor_ticks\":5,\"tickers\":[{\"id\":\"1065\"},{\"id\":\"1066\"},{\"id\":\"1067\"},{\"id\":\"1068\"},{\"id\":\"1069\"},{\"id\":\"1070\"},{\"id\":\"1071\"},{\"id\":\"1072\"},{\"id\":\"1073\"},{\"id\":\"1074\"},{\"id\":\"1075\"},{\"id\":\"1076\"}]},\"id\":\"1017\",\"type\":\"DatetimeTicker\"},{\"attributes\":{\"months\":[0,4,8]},\"id\":\"1074\",\"type\":\"MonthsTicker\"},{\"attributes\":{\"overlay\":{\"id\":\"1031\"}},\"id\":\"1026\",\"type\":\"BoxZoomTool\"},{\"attributes\":{\"axis_label\":\"value\",\"coordinates\":null,\"formatter\":{\"id\":\"1055\"},\"group\":null,\"major_label_policy\":{\"id\":\"1056\"},\"ticker\":{\"id\":\"1021\"}},\"id\":\"1020\",\"type\":\"LinearAxis\"},{\"attributes\":{\"axis_label\":\"time\",\"coordinates\":null,\"formatter\":{\"id\":\"1003\"},\"group\":null,\"major_label_policy\":{\"id\":\"1058\"},\"ticker\":{\"id\":\"1017\"}},\"id\":\"1016\",\"type\":\"DatetimeAxis\"},{\"attributes\":{\"line_alpha\":0.1,\"line_color\":\"#1f77b4\",\"line_width\":2,\"x\":{\"field\":\"x\"},\"y\":{\"field\":\"y\"}},\"id\":\"1043\",\"type\":\"Line\"},{\"attributes\":{\"data\":{\"x\":{\"__ndarray__\":\"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\",\"dtype\":\"float64\",\"order\":\"little\",\"shape\":[1095]},\"y\":{\"__ndarray__\":\"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\",\"dtype\":\"float64\",\"order\":\"little\",\"shape\":[1095]}},\"selected\":{\"id\":\"1060\"},\"selection_policy\":{\"id\":\"1059\"}},\"id\":\"1041\",\"type\":\"ColumnDataSource\"},{\"attributes\":{\"line_color\":\"orange\",\"line_width\":2,\"x\":{\"field\":\"x\"},\"y\":{\"field\":\"y\"}},\"id\":\"1048\",\"type\":\"Line\"},{\"attributes\":{\"months\":[0,1,2,3,4,5,6,7,8,9,10,11]},\"id\":\"1072\",\"type\":\"MonthsTicker\"},{\"attributes\":{\"bottom_units\":\"screen\",\"coordinates\":null,\"fill_alpha\":0.5,\"fill_color\":\"lightgrey\",\"group\":null,\"left_units\":\"screen\",\"level\":\"overlay\",\"line_alpha\":1.0,\"line_color\":\"black\",\"line_dash\":[4,4],\"line_width\":2,\"right_units\":\"screen\",\"syncable\":false,\"top_units\":\"screen\"},\"id\":\"1030\",\"type\":\"BoxAnnotation\"},{\"attributes\":{\"mantissas\":[1,2,5],\"max_interval\":500.0,\"num_minor_ticks\":0},\"id\":\"1065\",\"type\":\"AdaptiveTicker\"},{\"attributes\":{},\"id\":\"1012\",\"type\":\"LinearScale\"},{\"attributes\":{\"source\":{\"id\":\"1041\"}},\"id\":\"1046\",\"type\":\"CDSView\"},{\"attributes\":{\"line_alpha\":0.2,\"line_color\":\"#1f77b4\",\"line_width\":2,\"x\":{\"field\":\"x\"},\"y\":{\"field\":\"y\"}},\"id\":\"1044\",\"type\":\"Line\"},{\"attributes\":{\"days\":[1,8,15,22]},\"id\":\"1070\",\"type\":\"DaysTicker\"}],\"root_ids\":[\"1005\"]},\"title\":\"Bokeh Application\",\"version\":\"2.4.2\"}};\n",
       "  const render_items = [{\"docid\":\"e9da2466-5adb-4fc3-8223-9e77b261c402\",\"root_ids\":[\"1005\"],\"roots\":{\"1005\":\"e344f0d9-cf3b-496e-b722-e1bc912e0211\"}}];\n",
       "  root.Bokeh.embed.embed_items_notebook(docs_json, render_items);\n",
       "\n",
       "  }\n",
       "  if (root.Bokeh !== undefined) {\n",
       "    embed_document(root);\n",
       "  } else {\n",
       "    let attempts = 0;\n",
       "    const timer = setInterval(function(root) {\n",
       "      if (root.Bokeh !== undefined) {\n",
       "        clearInterval(timer);\n",
       "        embed_document(root);\n",
       "      } else {\n",
       "        attempts++;\n",
       "        if (attempts > 100) {\n",
       "          clearInterval(timer);\n",
       "          console.log(\"Bokeh: ERROR: Unable to run BokehJS code because BokehJS library is missing\");\n",
       "        }\n",
       "      }\n",
       "    }, 10, root)\n",
       "  }\n",
       "})(window);"
      ],
      "application/vnd.bokehjs_exec.v0+json": ""
     },
     "metadata": {
      "application/vnd.bokehjs_exec.v0+json": {
       "id": "1005"
      }
     },
     "output_type": "display_data"
    }
   ],
   "source": [
    "plot_ts(ts_test, preds)"
   ]
  },
  {
   "cell_type": "code",
   "execution_count": 49,
   "id": "municipal-backing",
   "metadata": {},
   "outputs": [
    {
     "data": {
      "text/plain": [
       "10.19470853301021"
      ]
     },
     "execution_count": 49,
     "metadata": {},
     "output_type": "execute_result"
    }
   ],
   "source": [
    "mse(ts_test, preds)"
   ]
  },
  {
   "cell_type": "markdown",
   "id": "regular-serbia",
   "metadata": {},
   "source": [
    "### Получение in-sample (когда каждая точка нам известна) прогноза"
   ]
  },
  {
   "cell_type": "markdown",
   "id": "consecutive-discount",
   "metadata": {},
   "source": [
    "в таком случае мы должны вторым аргументов передать реальный тест, такм образом этим методом мы смотрим как бы мы предсказали ts_test если бы мы предсказывали на одну точку вперед, т.е. нам всегда известна реальная предыдущая точка"
   ]
  },
  {
   "cell_type": "code",
   "execution_count": 50,
   "id": "obvious-dollar",
   "metadata": {},
   "outputs": [],
   "source": [
    "preds = predictor.predict_batch(ts_train, ts_test)"
   ]
  },
  {
   "cell_type": "code",
   "execution_count": 51,
   "id": "integrated-treatment",
   "metadata": {},
   "outputs": [
    {
     "data": {
      "text/html": [
       "\n",
       "    <div class=\"bk-root\">\n",
       "        <a href=\"https://bokeh.org\" target=\"_blank\" class=\"bk-logo bk-logo-small bk-logo-notebook\"></a>\n",
       "        <span id=\"1197\">Loading BokehJS ...</span>\n",
       "    </div>"
      ]
     },
     "metadata": {},
     "output_type": "display_data"
    },
    {
     "data": {
      "application/javascript": [
       "\n",
       "(function(root) {\n",
       "  function now() {\n",
       "    return new Date();\n",
       "  }\n",
       "\n",
       "  const force = true;\n",
       "\n",
       "  if (typeof root._bokeh_onload_callbacks === \"undefined\" || force === true) {\n",
       "    root._bokeh_onload_callbacks = [];\n",
       "    root._bokeh_is_loading = undefined;\n",
       "  }\n",
       "\n",
       "  const JS_MIME_TYPE = 'application/javascript';\n",
       "  const HTML_MIME_TYPE = 'text/html';\n",
       "  const EXEC_MIME_TYPE = 'application/vnd.bokehjs_exec.v0+json';\n",
       "  const CLASS_NAME = 'output_bokeh rendered_html';\n",
       "\n",
       "  /**\n",
       "   * Render data to the DOM node\n",
       "   */\n",
       "  function render(props, node) {\n",
       "    const script = document.createElement(\"script\");\n",
       "    node.appendChild(script);\n",
       "  }\n",
       "\n",
       "  /**\n",
       "   * Handle when an output is cleared or removed\n",
       "   */\n",
       "  function handleClearOutput(event, handle) {\n",
       "    const cell = handle.cell;\n",
       "\n",
       "    const id = cell.output_area._bokeh_element_id;\n",
       "    const server_id = cell.output_area._bokeh_server_id;\n",
       "    // Clean up Bokeh references\n",
       "    if (id != null && id in Bokeh.index) {\n",
       "      Bokeh.index[id].model.document.clear();\n",
       "      delete Bokeh.index[id];\n",
       "    }\n",
       "\n",
       "    if (server_id !== undefined) {\n",
       "      // Clean up Bokeh references\n",
       "      const cmd_clean = \"from bokeh.io.state import curstate; print(curstate().uuid_to_server['\" + server_id + \"'].get_sessions()[0].document.roots[0]._id)\";\n",
       "      cell.notebook.kernel.execute(cmd_clean, {\n",
       "        iopub: {\n",
       "          output: function(msg) {\n",
       "            const id = msg.content.text.trim();\n",
       "            if (id in Bokeh.index) {\n",
       "              Bokeh.index[id].model.document.clear();\n",
       "              delete Bokeh.index[id];\n",
       "            }\n",
       "          }\n",
       "        }\n",
       "      });\n",
       "      // Destroy server and session\n",
       "      const cmd_destroy = \"import bokeh.io.notebook as ion; ion.destroy_server('\" + server_id + \"')\";\n",
       "      cell.notebook.kernel.execute(cmd_destroy);\n",
       "    }\n",
       "  }\n",
       "\n",
       "  /**\n",
       "   * Handle when a new output is added\n",
       "   */\n",
       "  function handleAddOutput(event, handle) {\n",
       "    const output_area = handle.output_area;\n",
       "    const output = handle.output;\n",
       "\n",
       "    // limit handleAddOutput to display_data with EXEC_MIME_TYPE content only\n",
       "    if ((output.output_type != \"display_data\") || (!Object.prototype.hasOwnProperty.call(output.data, EXEC_MIME_TYPE))) {\n",
       "      return\n",
       "    }\n",
       "\n",
       "    const toinsert = output_area.element.find(\".\" + CLASS_NAME.split(' ')[0]);\n",
       "\n",
       "    if (output.metadata[EXEC_MIME_TYPE][\"id\"] !== undefined) {\n",
       "      toinsert[toinsert.length - 1].firstChild.textContent = output.data[JS_MIME_TYPE];\n",
       "      // store reference to embed id on output_area\n",
       "      output_area._bokeh_element_id = output.metadata[EXEC_MIME_TYPE][\"id\"];\n",
       "    }\n",
       "    if (output.metadata[EXEC_MIME_TYPE][\"server_id\"] !== undefined) {\n",
       "      const bk_div = document.createElement(\"div\");\n",
       "      bk_div.innerHTML = output.data[HTML_MIME_TYPE];\n",
       "      const script_attrs = bk_div.children[0].attributes;\n",
       "      for (let i = 0; i < script_attrs.length; i++) {\n",
       "        toinsert[toinsert.length - 1].firstChild.setAttribute(script_attrs[i].name, script_attrs[i].value);\n",
       "        toinsert[toinsert.length - 1].firstChild.textContent = bk_div.children[0].textContent\n",
       "      }\n",
       "      // store reference to server id on output_area\n",
       "      output_area._bokeh_server_id = output.metadata[EXEC_MIME_TYPE][\"server_id\"];\n",
       "    }\n",
       "  }\n",
       "\n",
       "  function register_renderer(events, OutputArea) {\n",
       "\n",
       "    function append_mime(data, metadata, element) {\n",
       "      // create a DOM node to render to\n",
       "      const toinsert = this.create_output_subarea(\n",
       "        metadata,\n",
       "        CLASS_NAME,\n",
       "        EXEC_MIME_TYPE\n",
       "      );\n",
       "      this.keyboard_manager.register_events(toinsert);\n",
       "      // Render to node\n",
       "      const props = {data: data, metadata: metadata[EXEC_MIME_TYPE]};\n",
       "      render(props, toinsert[toinsert.length - 1]);\n",
       "      element.append(toinsert);\n",
       "      return toinsert\n",
       "    }\n",
       "\n",
       "    /* Handle when an output is cleared or removed */\n",
       "    events.on('clear_output.CodeCell', handleClearOutput);\n",
       "    events.on('delete.Cell', handleClearOutput);\n",
       "\n",
       "    /* Handle when a new output is added */\n",
       "    events.on('output_added.OutputArea', handleAddOutput);\n",
       "\n",
       "    /**\n",
       "     * Register the mime type and append_mime function with output_area\n",
       "     */\n",
       "    OutputArea.prototype.register_mime_type(EXEC_MIME_TYPE, append_mime, {\n",
       "      /* Is output safe? */\n",
       "      safe: true,\n",
       "      /* Index of renderer in `output_area.display_order` */\n",
       "      index: 0\n",
       "    });\n",
       "  }\n",
       "\n",
       "  // register the mime type if in Jupyter Notebook environment and previously unregistered\n",
       "  if (root.Jupyter !== undefined) {\n",
       "    const events = require('base/js/events');\n",
       "    const OutputArea = require('notebook/js/outputarea').OutputArea;\n",
       "\n",
       "    if (OutputArea.prototype.mime_types().indexOf(EXEC_MIME_TYPE) == -1) {\n",
       "      register_renderer(events, OutputArea);\n",
       "    }\n",
       "  }\n",
       "\n",
       "  \n",
       "  if (typeof (root._bokeh_timeout) === \"undefined\" || force === true) {\n",
       "    root._bokeh_timeout = Date.now() + 5000;\n",
       "    root._bokeh_failed_load = false;\n",
       "  }\n",
       "\n",
       "  const NB_LOAD_WARNING = {'data': {'text/html':\n",
       "     \"<div style='background-color: #fdd'>\\n\"+\n",
       "     \"<p>\\n\"+\n",
       "     \"BokehJS does not appear to have successfully loaded. If loading BokehJS from CDN, this \\n\"+\n",
       "     \"may be due to a slow or bad network connection. Possible fixes:\\n\"+\n",
       "     \"</p>\\n\"+\n",
       "     \"<ul>\\n\"+\n",
       "     \"<li>re-rerun `output_notebook()` to attempt to load from CDN again, or</li>\\n\"+\n",
       "     \"<li>use INLINE resources instead, as so:</li>\\n\"+\n",
       "     \"</ul>\\n\"+\n",
       "     \"<code>\\n\"+\n",
       "     \"from bokeh.resources import INLINE\\n\"+\n",
       "     \"output_notebook(resources=INLINE)\\n\"+\n",
       "     \"</code>\\n\"+\n",
       "     \"</div>\"}};\n",
       "\n",
       "  function display_loaded() {\n",
       "    const el = document.getElementById(\"1197\");\n",
       "    if (el != null) {\n",
       "      el.textContent = \"BokehJS is loading...\";\n",
       "    }\n",
       "    if (root.Bokeh !== undefined) {\n",
       "      if (el != null) {\n",
       "        el.textContent = \"BokehJS \" + root.Bokeh.version + \" successfully loaded.\";\n",
       "      }\n",
       "    } else if (Date.now() < root._bokeh_timeout) {\n",
       "      setTimeout(display_loaded, 100)\n",
       "    }\n",
       "  }\n",
       "\n",
       "\n",
       "  function run_callbacks() {\n",
       "    try {\n",
       "      root._bokeh_onload_callbacks.forEach(function(callback) {\n",
       "        if (callback != null)\n",
       "          callback();\n",
       "      });\n",
       "    } finally {\n",
       "      delete root._bokeh_onload_callbacks\n",
       "    }\n",
       "    console.debug(\"Bokeh: all callbacks have finished\");\n",
       "  }\n",
       "\n",
       "  function load_libs(css_urls, js_urls, callback) {\n",
       "    if (css_urls == null) css_urls = [];\n",
       "    if (js_urls == null) js_urls = [];\n",
       "\n",
       "    root._bokeh_onload_callbacks.push(callback);\n",
       "    if (root._bokeh_is_loading > 0) {\n",
       "      console.debug(\"Bokeh: BokehJS is being loaded, scheduling callback at\", now());\n",
       "      return null;\n",
       "    }\n",
       "    if (js_urls == null || js_urls.length === 0) {\n",
       "      run_callbacks();\n",
       "      return null;\n",
       "    }\n",
       "    console.debug(\"Bokeh: BokehJS not loaded, scheduling load and callback at\", now());\n",
       "    root._bokeh_is_loading = css_urls.length + js_urls.length;\n",
       "\n",
       "    function on_load() {\n",
       "      root._bokeh_is_loading--;\n",
       "      if (root._bokeh_is_loading === 0) {\n",
       "        console.debug(\"Bokeh: all BokehJS libraries/stylesheets loaded\");\n",
       "        run_callbacks()\n",
       "      }\n",
       "    }\n",
       "\n",
       "    function on_error(url) {\n",
       "      console.error(\"failed to load \" + url);\n",
       "    }\n",
       "\n",
       "    for (let i = 0; i < css_urls.length; i++) {\n",
       "      const url = css_urls[i];\n",
       "      const element = document.createElement(\"link\");\n",
       "      element.onload = on_load;\n",
       "      element.onerror = on_error.bind(null, url);\n",
       "      element.rel = \"stylesheet\";\n",
       "      element.type = \"text/css\";\n",
       "      element.href = url;\n",
       "      console.debug(\"Bokeh: injecting link tag for BokehJS stylesheet: \", url);\n",
       "      document.body.appendChild(element);\n",
       "    }\n",
       "\n",
       "    for (let i = 0; i < js_urls.length; i++) {\n",
       "      const url = js_urls[i];\n",
       "      const element = document.createElement('script');\n",
       "      element.onload = on_load;\n",
       "      element.onerror = on_error.bind(null, url);\n",
       "      element.async = false;\n",
       "      element.src = url;\n",
       "      console.debug(\"Bokeh: injecting script tag for BokehJS library: \", url);\n",
       "      document.head.appendChild(element);\n",
       "    }\n",
       "  };\n",
       "\n",
       "  function inject_raw_css(css) {\n",
       "    const element = document.createElement(\"style\");\n",
       "    element.appendChild(document.createTextNode(css));\n",
       "    document.body.appendChild(element);\n",
       "  }\n",
       "\n",
       "  \n",
       "  const js_urls = [\"https://cdn.bokeh.org/bokeh/release/bokeh-2.4.2.min.js\", \"https://cdn.bokeh.org/bokeh/release/bokeh-gl-2.4.2.min.js\", \"https://cdn.bokeh.org/bokeh/release/bokeh-widgets-2.4.2.min.js\", \"https://cdn.bokeh.org/bokeh/release/bokeh-tables-2.4.2.min.js\", \"https://cdn.bokeh.org/bokeh/release/bokeh-mathjax-2.4.2.min.js\"];\n",
       "  const css_urls = [];\n",
       "  \n",
       "\n",
       "  const inline_js = [\n",
       "    function(Bokeh) {\n",
       "      Bokeh.set_log_level(\"info\");\n",
       "    },\n",
       "    function(Bokeh) {\n",
       "    \n",
       "    \n",
       "    }\n",
       "  ];\n",
       "\n",
       "  function run_inline_js() {\n",
       "    \n",
       "    if (root.Bokeh !== undefined || force === true) {\n",
       "      \n",
       "    for (let i = 0; i < inline_js.length; i++) {\n",
       "      inline_js[i].call(root, root.Bokeh);\n",
       "    }\n",
       "    if (force === true) {\n",
       "        display_loaded();\n",
       "      }} else if (Date.now() < root._bokeh_timeout) {\n",
       "      setTimeout(run_inline_js, 100);\n",
       "    } else if (!root._bokeh_failed_load) {\n",
       "      console.log(\"Bokeh: BokehJS failed to load within specified timeout.\");\n",
       "      root._bokeh_failed_load = true;\n",
       "    } else if (force !== true) {\n",
       "      const cell = $(document.getElementById(\"1197\")).parents('.cell').data().cell;\n",
       "      cell.output_area.append_execute_result(NB_LOAD_WARNING)\n",
       "    }\n",
       "\n",
       "  }\n",
       "\n",
       "  if (root._bokeh_is_loading === 0) {\n",
       "    console.debug(\"Bokeh: BokehJS loaded, going straight to plotting\");\n",
       "    run_inline_js();\n",
       "  } else {\n",
       "    load_libs(css_urls, js_urls, function() {\n",
       "      console.debug(\"Bokeh: BokehJS plotting callback run at\", now());\n",
       "      run_inline_js();\n",
       "    });\n",
       "  }\n",
       "}(window));"
      ],
      "application/vnd.bokehjs_load.v0+json": "\n(function(root) {\n  function now() {\n    return new Date();\n  }\n\n  const force = true;\n\n  if (typeof root._bokeh_onload_callbacks === \"undefined\" || force === true) {\n    root._bokeh_onload_callbacks = [];\n    root._bokeh_is_loading = undefined;\n  }\n\n  \n\n  \n  if (typeof (root._bokeh_timeout) === \"undefined\" || force === true) {\n    root._bokeh_timeout = Date.now() + 5000;\n    root._bokeh_failed_load = false;\n  }\n\n  const NB_LOAD_WARNING = {'data': {'text/html':\n     \"<div style='background-color: #fdd'>\\n\"+\n     \"<p>\\n\"+\n     \"BokehJS does not appear to have successfully loaded. If loading BokehJS from CDN, this \\n\"+\n     \"may be due to a slow or bad network connection. Possible fixes:\\n\"+\n     \"</p>\\n\"+\n     \"<ul>\\n\"+\n     \"<li>re-rerun `output_notebook()` to attempt to load from CDN again, or</li>\\n\"+\n     \"<li>use INLINE resources instead, as so:</li>\\n\"+\n     \"</ul>\\n\"+\n     \"<code>\\n\"+\n     \"from bokeh.resources import INLINE\\n\"+\n     \"output_notebook(resources=INLINE)\\n\"+\n     \"</code>\\n\"+\n     \"</div>\"}};\n\n  function display_loaded() {\n    const el = document.getElementById(\"1197\");\n    if (el != null) {\n      el.textContent = \"BokehJS is loading...\";\n    }\n    if (root.Bokeh !== undefined) {\n      if (el != null) {\n        el.textContent = \"BokehJS \" + root.Bokeh.version + \" successfully loaded.\";\n      }\n    } else if (Date.now() < root._bokeh_timeout) {\n      setTimeout(display_loaded, 100)\n    }\n  }\n\n\n  function run_callbacks() {\n    try {\n      root._bokeh_onload_callbacks.forEach(function(callback) {\n        if (callback != null)\n          callback();\n      });\n    } finally {\n      delete root._bokeh_onload_callbacks\n    }\n    console.debug(\"Bokeh: all callbacks have finished\");\n  }\n\n  function load_libs(css_urls, js_urls, callback) {\n    if (css_urls == null) css_urls = [];\n    if (js_urls == null) js_urls = [];\n\n    root._bokeh_onload_callbacks.push(callback);\n    if (root._bokeh_is_loading > 0) {\n      console.debug(\"Bokeh: BokehJS is being loaded, scheduling callback at\", now());\n      return null;\n    }\n    if (js_urls == null || js_urls.length === 0) {\n      run_callbacks();\n      return null;\n    }\n    console.debug(\"Bokeh: BokehJS not loaded, scheduling load and callback at\", now());\n    root._bokeh_is_loading = css_urls.length + js_urls.length;\n\n    function on_load() {\n      root._bokeh_is_loading--;\n      if (root._bokeh_is_loading === 0) {\n        console.debug(\"Bokeh: all BokehJS libraries/stylesheets loaded\");\n        run_callbacks()\n      }\n    }\n\n    function on_error(url) {\n      console.error(\"failed to load \" + url);\n    }\n\n    for (let i = 0; i < css_urls.length; i++) {\n      const url = css_urls[i];\n      const element = document.createElement(\"link\");\n      element.onload = on_load;\n      element.onerror = on_error.bind(null, url);\n      element.rel = \"stylesheet\";\n      element.type = \"text/css\";\n      element.href = url;\n      console.debug(\"Bokeh: injecting link tag for BokehJS stylesheet: \", url);\n      document.body.appendChild(element);\n    }\n\n    for (let i = 0; i < js_urls.length; i++) {\n      const url = js_urls[i];\n      const element = document.createElement('script');\n      element.onload = on_load;\n      element.onerror = on_error.bind(null, url);\n      element.async = false;\n      element.src = url;\n      console.debug(\"Bokeh: injecting script tag for BokehJS library: \", url);\n      document.head.appendChild(element);\n    }\n  };\n\n  function inject_raw_css(css) {\n    const element = document.createElement(\"style\");\n    element.appendChild(document.createTextNode(css));\n    document.body.appendChild(element);\n  }\n\n  \n  const js_urls = [\"https://cdn.bokeh.org/bokeh/release/bokeh-2.4.2.min.js\", \"https://cdn.bokeh.org/bokeh/release/bokeh-gl-2.4.2.min.js\", \"https://cdn.bokeh.org/bokeh/release/bokeh-widgets-2.4.2.min.js\", \"https://cdn.bokeh.org/bokeh/release/bokeh-tables-2.4.2.min.js\", \"https://cdn.bokeh.org/bokeh/release/bokeh-mathjax-2.4.2.min.js\"];\n  const css_urls = [];\n  \n\n  const inline_js = [\n    function(Bokeh) {\n      Bokeh.set_log_level(\"info\");\n    },\n    function(Bokeh) {\n    \n    \n    }\n  ];\n\n  function run_inline_js() {\n    \n    if (root.Bokeh !== undefined || force === true) {\n      \n    for (let i = 0; i < inline_js.length; i++) {\n      inline_js[i].call(root, root.Bokeh);\n    }\n    if (force === true) {\n        display_loaded();\n      }} else if (Date.now() < root._bokeh_timeout) {\n      setTimeout(run_inline_js, 100);\n    } else if (!root._bokeh_failed_load) {\n      console.log(\"Bokeh: BokehJS failed to load within specified timeout.\");\n      root._bokeh_failed_load = true;\n    } else if (force !== true) {\n      const cell = $(document.getElementById(\"1197\")).parents('.cell').data().cell;\n      cell.output_area.append_execute_result(NB_LOAD_WARNING)\n    }\n\n  }\n\n  if (root._bokeh_is_loading === 0) {\n    console.debug(\"Bokeh: BokehJS loaded, going straight to plotting\");\n    run_inline_js();\n  } else {\n    load_libs(css_urls, js_urls, function() {\n      console.debug(\"Bokeh: BokehJS plotting callback run at\", now());\n      run_inline_js();\n    });\n  }\n}(window));"
     },
     "metadata": {},
     "output_type": "display_data"
    },
    {
     "data": {
      "text/html": [
       "\n",
       "\n",
       "\n",
       "\n",
       "\n",
       "\n",
       "  <div class=\"bk-root\" id=\"41a5aca8-4482-40be-9988-0ad6563d6a76\" data-root-id=\"1200\"></div>\n"
      ]
     },
     "metadata": {},
     "output_type": "display_data"
    },
    {
     "data": {
      "application/javascript": [
       "(function(root) {\n",
       "  function embed_document(root) {\n",
       "    \n",
       "  const docs_json = {\"848ef4c3-803e-4193-9d63-7855aee38992\":{\"defs\":[],\"roots\":{\"references\":[{\"attributes\":{\"below\":[{\"id\":\"1211\"}],\"center\":[{\"id\":\"1214\"},{\"id\":\"1218\"}],\"left\":[{\"id\":\"1215\"}],\"renderers\":[{\"id\":\"1240\"},{\"id\":\"1246\"}],\"title\":{\"id\":\"1201\"},\"toolbar\":{\"id\":\"1227\"},\"width\":900,\"x_range\":{\"id\":\"1203\"},\"x_scale\":{\"id\":\"1207\"},\"y_range\":{\"id\":\"1205\"},\"y_scale\":{\"id\":\"1209\"}},\"id\":\"1200\",\"subtype\":\"Figure\",\"type\":\"Plot\"},{\"attributes\":{\"line_color\":\"orange\",\"line_width\":2,\"x\":{\"field\":\"x\"},\"y\":{\"field\":\"y\"}},\"id\":\"1243\",\"type\":\"Line\"},{\"attributes\":{\"base\":24,\"mantissas\":[1,2,4,6,8,12],\"max_interval\":43200000.0,\"min_interval\":3600000.0,\"num_minor_ticks\":0},\"id\":\"1286\",\"type\":\"AdaptiveTicker\"},{\"attributes\":{\"callback\":null,\"formatters\":{\"@x\":\"datetime\"},\"mode\":\"vline\",\"tooltips\":[[\"date\",\"@x{%d-%m-%YT%H:%M:%S}\"],[\"value\",\"@y\"]]},\"id\":\"1199\",\"type\":\"HoverTool\"},{\"attributes\":{\"days\":[1,2,3,4,5,6,7,8,9,10,11,12,13,14,15,16,17,18,19,20,21,22,23,24,25,26,27,28,29,30,31]},\"id\":\"1287\",\"type\":\"DaysTicker\"},{\"attributes\":{\"months\":[0,6]},\"id\":\"1294\",\"type\":\"MonthsTicker\"},{\"attributes\":{\"data\":{\"x\":{\"__ndarray__\":\"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\",\"dtype\":\"float64\",\"order\":\"little\",\"shape\":[1095]},\"y\":{\"__ndarray__\":\"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\",\"dtype\":\"float64\",\"order\":\"little\",\"shape\":[1095]}},\"selected\":{\"id\":\"1281\"},\"selection_policy\":{\"id\":\"1280\"}},\"id\":\"1242\",\"type\":\"ColumnDataSource\"},{\"attributes\":{\"source\":{\"id\":\"1242\"}},\"id\":\"1247\",\"type\":\"CDSView\"},{\"attributes\":{\"months\":[0,4,8]},\"id\":\"1293\",\"type\":\"MonthsTicker\"},{\"attributes\":{\"overlay\":{\"id\":\"1226\"}},\"id\":\"1221\",\"type\":\"BoxZoomTool\"},{\"attributes\":{\"data\":{\"x\":{\"__ndarray__\":\"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\",\"dtype\":\"float64\",\"order\":\"little\",\"shape\":[1095]},\"y\":{\"__ndarray__\":\"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\",\"dtype\":\"float64\",\"order\":\"little\",\"shape\":[1095]}},\"selected\":{\"id\":\"1279\"},\"selection_policy\":{\"id\":\"1278\"}},\"id\":\"1236\",\"type\":\"ColumnDataSource\"},{\"attributes\":{\"line_alpha\":0.2,\"line_color\":\"orange\",\"line_width\":2,\"x\":{\"field\":\"x\"},\"y\":{\"field\":\"y\"}},\"id\":\"1245\",\"type\":\"Line\"},{\"attributes\":{\"bottom_units\":\"screen\",\"coordinates\":null,\"fill_alpha\":0.5,\"fill_color\":\"lightgrey\",\"group\":null,\"left_units\":\"screen\",\"level\":\"overlay\",\"line_alpha\":1.0,\"line_color\":\"black\",\"line_dash\":[4,4],\"line_width\":2,\"right_units\":\"screen\",\"syncable\":false,\"top_units\":\"screen\"},\"id\":\"1225\",\"type\":\"BoxAnnotation\"},{\"attributes\":{\"line_alpha\":0.1,\"line_color\":\"orange\",\"line_width\":2,\"x\":{\"field\":\"x\"},\"y\":{\"field\":\"y\"}},\"id\":\"1244\",\"type\":\"Line\"},{\"attributes\":{\"num_minor_ticks\":5,\"tickers\":[{\"id\":\"1284\"},{\"id\":\"1285\"},{\"id\":\"1286\"},{\"id\":\"1287\"},{\"id\":\"1288\"},{\"id\":\"1289\"},{\"id\":\"1290\"},{\"id\":\"1291\"},{\"id\":\"1292\"},{\"id\":\"1293\"},{\"id\":\"1294\"},{\"id\":\"1295\"}]},\"id\":\"1212\",\"type\":\"DatetimeTicker\"},{\"attributes\":{\"line_alpha\":0.1,\"line_color\":\"#1f77b4\",\"line_width\":2,\"x\":{\"field\":\"x\"},\"y\":{\"field\":\"y\"}},\"id\":\"1238\",\"type\":\"Line\"},{\"attributes\":{},\"id\":\"1278\",\"type\":\"UnionRenderers\"},{\"attributes\":{},\"id\":\"1223\",\"type\":\"SaveTool\"},{\"attributes\":{\"overlay\":{\"id\":\"1225\"}},\"id\":\"1224\",\"type\":\"BoxSelectTool\"},{\"attributes\":{\"mantissas\":[1,2,5],\"max_interval\":500.0,\"num_minor_ticks\":0},\"id\":\"1284\",\"type\":\"AdaptiveTicker\"},{\"attributes\":{},\"id\":\"1274\",\"type\":\"BasicTickFormatter\"},{\"attributes\":{},\"id\":\"1219\",\"type\":\"PanTool\"},{\"attributes\":{},\"id\":\"1222\",\"type\":\"ResetTool\"},{\"attributes\":{\"coordinates\":null,\"data_source\":{\"id\":\"1242\"},\"glyph\":{\"id\":\"1243\"},\"group\":null,\"hover_glyph\":null,\"muted_glyph\":{\"id\":\"1245\"},\"nonselection_glyph\":{\"id\":\"1244\"},\"view\":{\"id\":\"1247\"}},\"id\":\"1246\",\"type\":\"GlyphRenderer\"},{\"attributes\":{\"line_color\":\"#1f77b4\",\"line_width\":2,\"x\":{\"field\":\"x\"},\"y\":{\"field\":\"y\"}},\"id\":\"1237\",\"type\":\"Line\"},{\"attributes\":{\"line_alpha\":0.2,\"line_color\":\"#1f77b4\",\"line_width\":2,\"x\":{\"field\":\"x\"},\"y\":{\"field\":\"y\"}},\"id\":\"1239\",\"type\":\"Line\"},{\"attributes\":{\"bottom_units\":\"screen\",\"coordinates\":null,\"fill_alpha\":0.5,\"fill_color\":\"lightgrey\",\"group\":null,\"left_units\":\"screen\",\"level\":\"overlay\",\"line_alpha\":1.0,\"line_color\":\"black\",\"line_dash\":[4,4],\"line_width\":2,\"right_units\":\"screen\",\"syncable\":false,\"top_units\":\"screen\"},\"id\":\"1226\",\"type\":\"BoxAnnotation\"},{\"attributes\":{\"coordinates\":null,\"group\":null},\"id\":\"1201\",\"type\":\"Title\"},{\"attributes\":{\"active_scroll\":{\"id\":\"1220\"},\"tools\":[{\"id\":\"1219\"},{\"id\":\"1220\"},{\"id\":\"1221\"},{\"id\":\"1222\"},{\"id\":\"1223\"},{\"id\":\"1224\"},{\"id\":\"1199\"}]},\"id\":\"1227\",\"type\":\"Toolbar\"},{\"attributes\":{},\"id\":\"1220\",\"type\":\"WheelZoomTool\"},{\"attributes\":{\"base\":60,\"mantissas\":[1,2,5,10,15,20,30],\"max_interval\":1800000.0,\"min_interval\":1000.0,\"num_minor_ticks\":0},\"id\":\"1285\",\"type\":\"AdaptiveTicker\"},{\"attributes\":{\"axis_label\":\"value\",\"coordinates\":null,\"formatter\":{\"id\":\"1274\"},\"group\":null,\"major_label_policy\":{\"id\":\"1275\"},\"ticker\":{\"id\":\"1216\"}},\"id\":\"1215\",\"type\":\"LinearAxis\"},{\"attributes\":{\"coordinates\":null,\"data_source\":{\"id\":\"1236\"},\"glyph\":{\"id\":\"1237\"},\"group\":null,\"hover_glyph\":null,\"muted_glyph\":{\"id\":\"1239\"},\"nonselection_glyph\":{\"id\":\"1238\"},\"view\":{\"id\":\"1241\"}},\"id\":\"1240\",\"type\":\"GlyphRenderer\"},{\"attributes\":{},\"id\":\"1205\",\"type\":\"DataRange1d\"},{\"attributes\":{\"months\":[0,2,4,6,8,10]},\"id\":\"1292\",\"type\":\"MonthsTicker\"},{\"attributes\":{},\"id\":\"1203\",\"type\":\"DataRange1d\"},{\"attributes\":{},\"id\":\"1280\",\"type\":\"UnionRenderers\"},{\"attributes\":{\"days\":[1,4,7,10,13,16,19,22,25,28]},\"id\":\"1288\",\"type\":\"DaysTicker\"},{\"attributes\":{},\"id\":\"1207\",\"type\":\"LinearScale\"},{\"attributes\":{\"months\":[0,1,2,3,4,5,6,7,8,9,10,11]},\"id\":\"1291\",\"type\":\"MonthsTicker\"},{\"attributes\":{\"source\":{\"id\":\"1236\"}},\"id\":\"1241\",\"type\":\"CDSView\"},{\"attributes\":{},\"id\":\"1277\",\"type\":\"AllLabels\"},{\"attributes\":{\"axis\":{\"id\":\"1215\"},\"coordinates\":null,\"dimension\":1,\"group\":null,\"ticker\":null},\"id\":\"1218\",\"type\":\"Grid\"},{\"attributes\":{\"days\":[1,15]},\"id\":\"1290\",\"type\":\"DaysTicker\"},{\"attributes\":{},\"id\":\"1216\",\"type\":\"BasicTicker\"},{\"attributes\":{},\"id\":\"1279\",\"type\":\"Selection\"},{\"attributes\":{},\"id\":\"1295\",\"type\":\"YearsTicker\"},{\"attributes\":{\"axis_label\":\"time\",\"coordinates\":null,\"formatter\":{\"id\":\"1198\"},\"group\":null,\"major_label_policy\":{\"id\":\"1277\"},\"ticker\":{\"id\":\"1212\"}},\"id\":\"1211\",\"type\":\"DatetimeAxis\"},{\"attributes\":{},\"id\":\"1275\",\"type\":\"AllLabels\"},{\"attributes\":{\"days\":[\"%d %B %Y\"],\"hours\":[\"%d %B %Y\"],\"months\":[\"%d %B %Y\"],\"years\":[\"%d %B %Y\"]},\"id\":\"1198\",\"type\":\"DatetimeTickFormatter\"},{\"attributes\":{\"days\":[1,8,15,22]},\"id\":\"1289\",\"type\":\"DaysTicker\"},{\"attributes\":{\"axis\":{\"id\":\"1211\"},\"coordinates\":null,\"group\":null,\"ticker\":null},\"id\":\"1214\",\"type\":\"Grid\"},{\"attributes\":{},\"id\":\"1281\",\"type\":\"Selection\"},{\"attributes\":{},\"id\":\"1209\",\"type\":\"LinearScale\"}],\"root_ids\":[\"1200\"]},\"title\":\"Bokeh Application\",\"version\":\"2.4.2\"}};\n",
       "  const render_items = [{\"docid\":\"848ef4c3-803e-4193-9d63-7855aee38992\",\"root_ids\":[\"1200\"],\"roots\":{\"1200\":\"41a5aca8-4482-40be-9988-0ad6563d6a76\"}}];\n",
       "  root.Bokeh.embed.embed_items_notebook(docs_json, render_items);\n",
       "\n",
       "  }\n",
       "  if (root.Bokeh !== undefined) {\n",
       "    embed_document(root);\n",
       "  } else {\n",
       "    let attempts = 0;\n",
       "    const timer = setInterval(function(root) {\n",
       "      if (root.Bokeh !== undefined) {\n",
       "        clearInterval(timer);\n",
       "        embed_document(root);\n",
       "      } else {\n",
       "        attempts++;\n",
       "        if (attempts > 100) {\n",
       "          clearInterval(timer);\n",
       "          console.log(\"Bokeh: ERROR: Unable to run BokehJS code because BokehJS library is missing\");\n",
       "        }\n",
       "      }\n",
       "    }, 10, root)\n",
       "  }\n",
       "})(window);"
      ],
      "application/vnd.bokehjs_exec.v0+json": ""
     },
     "metadata": {
      "application/vnd.bokehjs_exec.v0+json": {
       "id": "1200"
      }
     },
     "output_type": "display_data"
    }
   ],
   "source": [
    "plot_ts(ts_test, preds)"
   ]
  },
  {
   "cell_type": "code",
   "execution_count": 52,
   "id": "electric-accident",
   "metadata": {},
   "outputs": [
    {
     "data": {
      "text/plain": [
       "5.616976168483643"
      ]
     },
     "execution_count": 52,
     "metadata": {},
     "output_type": "execute_result"
    }
   ],
   "source": [
    "mse(ts_test, preds)"
   ]
  },
  {
   "cell_type": "markdown",
   "id": "selective-natural",
   "metadata": {},
   "source": []
  },
  {
   "cell_type": "code",
   "execution_count": null,
   "id": "6d786077",
   "metadata": {},
   "outputs": [],
   "source": []
  }
 ],
 "metadata": {
  "kernelspec": {
   "display_name": "Python 3 (ipykernel)",
   "language": "python",
   "name": "python3"
  },
  "language_info": {
   "codemirror_mode": {
    "name": "ipython",
    "version": 3
   },
   "file_extension": ".py",
   "mimetype": "text/x-python",
   "name": "python",
   "nbconvert_exporter": "python",
   "pygments_lexer": "ipython3",
   "version": "3.8.12"
  }
 },
 "nbformat": 4,
 "nbformat_minor": 5
}
